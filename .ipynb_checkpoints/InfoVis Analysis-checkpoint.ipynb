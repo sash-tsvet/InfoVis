{
 "cells": [
  {
   "cell_type": "code",
   "execution_count": 103,
   "metadata": {
    "collapsed": true
   },
   "outputs": [],
   "source": [
    "import pickle\n",
    "import math\n",
    "import numpy as np\n",
    "import pandas as pd\n",
    "\n",
    "row_list = []\n",
    "\n",
    "def angle(v1, v2):\n",
    "    v1t = (v1[1][0]-v1[0][0], v1[1][1]-v1[0][1])\n",
    "    v2t = (v2[1][0]-v2[0][0], v2[1][1]-v2[0][1])\n",
    "#     print(v1)\n",
    "# v1 is your firsr vector\n",
    "# v2 is your second vector\n",
    "    ang = abs(np.angle(v1t[0]+v1t[1]*1j, deg=True) - np.angle(v2t[0]+v2t[1]*1j, deg=True))\n",
    "    if ang > 90:\n",
    "        ang =  abs(ang - 180)\n",
    "    if ang > 90:\n",
    "        ang =  abs(ang - 180)\n",
    "        \n",
    "#     print(ang)\n",
    "    return ang\n",
    "\n",
    "def leng(v1, v2):\n",
    "    v1t = (v1[1][0]-v1[0][0], v1[1][1]-v1[0][1])\n",
    "    v2t = (v2[1][0]-v2[0][0], v2[1][1]-v2[0][1])\n",
    "    len1 = math.sqrt((v1t[1]) ** 2 + (v1t[0]) ** 2)\n",
    "    len2 = math.sqrt((v2t[1]) ** 2 + (v2t[0]) ** 2)\n",
    "    deltalen = abs(len2-len1)/len1\n",
    "\n",
    "    return deltalen\n",
    "#     print(v1)\n",
    "# v1 is your firsr vector\n",
    "# v2 is your second vector\n",
    "#     return np.angle(v1t[0]+v1t[1]*1j, deg=True) - np.angle(v2t[0]+v2t[1]*1j, deg=True) \n",
    "\n",
    "def calc_metric(filename):\n",
    "    f = open(filename, \"rb\")\n",
    "    filename = pickle.load(f)\n",
    "    outfilename = pickle.load(f)\n",
    "    anitype = pickle.load(f)\n",
    "    tasktype = pickle.load(f)\n",
    "    correct_answer = pickle.load(f)\n",
    "    answer_segments = pickle.load(f)\n",
    "    f.close()\n",
    "\n",
    "\n",
    "    metrics = []\n",
    "    sumdistance = 1\n",
    "    sumangle = 1\n",
    "    sumleng = 1\n",
    "    answers_dict = {}\n",
    "    total_answered = 0\n",
    "\n",
    "    for answer_segment in answer_segments:\n",
    "        if len(answer_segment) > 1:\n",
    "            min_distance = 4\n",
    "            bestfit = None\n",
    "            segment_num = -1\n",
    "            total_answered = total_answered + 1\n",
    "            for answer_num,correct_segment in enumerate(correct_answer):\n",
    "                dist0 = math.sqrt((correct_segment[0][0] - answer_segment[1][0]) ** 2 + (correct_segment[0][1] - answer_segment[1][1]) ** 2)\n",
    "                dist1 = math.sqrt((correct_segment[1][0] - answer_segment[1][0]) ** 2 + (correct_segment[1][1] - answer_segment[1][1]) ** 2)\n",
    "                #print distances to find the closest point to the end point\n",
    "                dist = min(dist0, dist1)\n",
    "                #print(dist)#, dist0, correct_segment[0][0] - answer_segment[1][0], correct_segment[0][1] - answer_segment[1][1], dist1, correct_segment[1][0] - answer_segment[1][0], (correct_segment[1][1] - answer_segment[1][1]))\n",
    "                if dist < min_distance:\n",
    "                    min_distance = dist\n",
    "                    if dist == dist0:\n",
    "                        bestfit = [correct_segment[1], correct_segment[0]]\n",
    "                    else:\n",
    "                        bestfit = correct_segment\n",
    "                    segment_num = answer_num\n",
    "            sumdistance *= min_distance\n",
    "            angle_min = angle(answer_segment, bestfit)\n",
    "#             print(angle_min, answer_segment, bestfit)\n",
    "            \n",
    "            leng_min = leng(answer_segment, bestfit)            \n",
    "            sumangle *= angle_min\n",
    "            sumleng *= leng_min\n",
    "            answers_dict[segment_num] = bestfit\n",
    "            metrics.append([answer_segment, segment_num, bestfit, min_distance, angle_min, leng_min])\n",
    "\n",
    "\n",
    "    numans = len(correct_answer)\n",
    "    answered = len(answers_dict)\n",
    "    \n",
    "    if total_answered > 0 :\n",
    "        sumdistance = sumdistance ** (1. / total_answered)\n",
    "        sumangle = sumangle ** (1. / total_answered)\n",
    "        sumleng = sumleng ** (1. / total_answered)\n",
    "    # print(\"dict:\", answers_dict)\n",
    "    # print(metrics, \"\\n\\n\")\n",
    "    \n",
    "#     print(\"added segments\", answered, \"of\", numans)\n",
    "#     print(\"sum distance metric\", sumdistance)\n",
    "#     print(\"sum angle metric\", sumangle)\n",
    "#     print(\"sum length metric\", sumleng)\n",
    "    \n",
    "    return anitype, answered, total_answered, numans, sumdistance, sumangle, sumleng\n"
   ]
  },
  {
   "cell_type": "code",
   "execution_count": 104,
   "metadata": {},
   "outputs": [
    {
     "data": {
      "text/plain": [
       "(3, 1, 1, 2, 0.1795025596452978, 28.744259029485136, 1.1668199391604437)"
      ]
     },
     "execution_count": 104,
     "metadata": {},
     "output_type": "execute_result"
    }
   ],
   "source": [
    "calc_metric(\"Alex/10_3.out\")\n",
    "calc_metric(\"Alex/3_3.out\")"
   ]
  },
  {
   "cell_type": "code",
   "execution_count": 105,
   "metadata": {
    "collapsed": true
   },
   "outputs": [],
   "source": [
    "participants = [\"Alex\", \"James\", \"Serina\"]\n",
    "plots = range(3,23)\n",
    "tasks = range(1,4)\n",
    "row_list = []\n",
    "\n",
    "for participant in participants:\n",
    "    for plot in plots:\n",
    "        for task in tasks:\n",
    "            anitype, answered, total_answered, numans, sumdistance, sumangle, sumleng = calc_metric(participant + \"/\" + str(plot) + \"_\" + str(task) + \".out\")\n",
    "            \n",
    "            f = open(\"inputs/\" + str(plot) + \".txt\", \"rb\")\n",
    "            N, Nnorm, Nopp, Nlong, Nside, bottom, top = pickle.load(f)\n",
    "            f.close()\n",
    "    \n",
    "            row_list.append([participant, plot, task, anitype, answered, total_answered, numans, sumdistance/(top-bottom), sumangle, sumleng])\n",
    "            \n",
    "\n",
    "df = pd.DataFrame(row_list, columns=['Participant','Graph', 'Task', 'Animation', 'Correct_ans', 'Total_ans', 'Total_correct', 'Distance', 'Angle', 'Length'])\n",
    "\n"
   ]
  },
  {
   "cell_type": "code",
   "execution_count": 106,
   "metadata": {},
   "outputs": [
    {
     "data": {
      "text/plain": [
       "<matplotlib.axes._subplots.AxesSubplot at 0x7f3fb4b91e80>"
      ]
     },
     "execution_count": 106,
     "metadata": {},
     "output_type": "execute_result"
    },
    {
     "data": {
      "image/png": "[encoded data removed]",
      "text/plain": [
       "<Figure size 432x288 with 1 Axes>"
      ]
     },
     "metadata": {
      "needs_background": "light"
     },
     "output_type": "display_data"
    }
   ],
   "source": [
    "df2 = df.loc[(df['Task'] == 1) & (df['Correct_ans'] > 0)]\n",
    "df2.groupby([\"Animation\"]).agg({'Distance': 'mean'}).plot.bar(rot=0)"
   ]
  },
  {
   "cell_type": "code",
   "execution_count": 107,
   "metadata": {},
   "outputs": [
    {
     "data": {
      "text/plain": [
       "<matplotlib.axes._subplots.AxesSubplot at 0x7f3fb4b27ac8>"
      ]
     },
     "execution_count": 107,
     "metadata": {},
     "output_type": "execute_result"
    },
    {
     "data": {
      "image/png": "[encoded data removed]",
      "text/plain": [
       "<Figure size 432x288 with 1 Axes>"
      ]
     },
     "metadata": {
      "needs_background": "light"
     },
     "output_type": "display_data"
    }
   ],
   "source": [
    "df2 = df.loc[(df['Task'] == 2) & (df['Correct_ans'] > 0)]\n",
    "df2.groupby([\"Animation\"]).agg({'Distance': 'mean'}).plot.bar(rot=0)"
   ]
  },
  {
   "cell_type": "code",
   "execution_count": 108,
   "metadata": {},
   "outputs": [
    {
     "data": {
      "text/plain": [
       "<matplotlib.axes._subplots.AxesSubplot at 0x7f3fb4c12b00>"
      ]
     },
     "execution_count": 108,
     "metadata": {},
     "output_type": "execute_result"
    },
    {
     "data": {
      "image/png": "[encoded data removed]",
      "text/plain": [
       "<Figure size 432x288 with 1 Axes>"
      ]
     },
     "metadata": {
      "needs_background": "light"
     },
     "output_type": "display_data"
    }
   ],
   "source": [
    "df2 = df.loc[(df['Task'] == 3) & (df['Correct_ans'] > 0)]\n",
    "df2.groupby([\"Animation\"]).agg({'Distance': 'mean'}).plot.bar(rot=0)"
   ]
  },
  {
   "cell_type": "code",
   "execution_count": 109,
   "metadata": {},
   "outputs": [
    {
     "data": {
      "text/plain": [
       "<matplotlib.axes._subplots.AxesSubplot at 0x7f3fb4a72978>"
      ]
     },
     "execution_count": 109,
     "metadata": {},
     "output_type": "execute_result"
    },
    {
     "data": {
      "image/png": "[encoded data removed]",
      "text/plain": [
       "<Figure size 432x288 with 1 Axes>"
      ]
     },
     "metadata": {
      "needs_background": "light"
     },
     "output_type": "display_data"
    }
   ],
   "source": [
    "df2 = df.loc[ (df['Correct_ans'] > 0)]\n",
    "df2.groupby([\"Animation\"]).agg({'Distance': 'mean'}).plot.bar(rot=0)"
   ]
  },
  {
   "cell_type": "code",
   "execution_count": 110,
   "metadata": {},
   "outputs": [
    {
     "data": {
      "text/plain": [
       "<matplotlib.axes._subplots.AxesSubplot at 0x7f3fb49cdf60>"
      ]
     },
     "execution_count": 110,
     "metadata": {},
     "output_type": "execute_result"
    },
    {
     "data": {
      "image/png": "[encoded data removed]",
      "text/plain": [
       "<Figure size 432x288 with 1 Axes>"
      ]
     },
     "metadata": {
      "needs_background": "light"
     },
     "output_type": "display_data"
    }
   ],
   "source": [
    "df2 = df.loc[(df['Task'] == 1) & (df['Correct_ans'] > 0)]\n",
    "df2.groupby([\"Animation\"]).agg({'Angle': 'mean'}).plot.bar(rot=0)"
   ]
  },
  {
   "cell_type": "code",
   "execution_count": 111,
   "metadata": {},
   "outputs": [
    {
     "data": {
      "text/plain": [
       "<matplotlib.axes._subplots.AxesSubplot at 0x7f3fb4944048>"
      ]
     },
     "execution_count": 111,
     "metadata": {},
     "output_type": "execute_result"
    },
    {
     "data": {
      "image/png": "[encoded data removed]",
      "text/plain": [
       "<Figure size 432x288 with 1 Axes>"
      ]
     },
     "metadata": {
      "needs_background": "light"
     },
     "output_type": "display_data"
    }
   ],
   "source": [
    "df2 = df.loc[(df['Task'] == 2) & (df['Correct_ans'] > 0)]\n",
    "df2.groupby([\"Animation\"]).agg({'Angle': 'mean'}).plot.bar(rot=0)"
   ]
  },
  {
   "cell_type": "code",
   "execution_count": 112,
   "metadata": {},
   "outputs": [
    {
     "data": {
      "text/plain": [
       "<matplotlib.axes._subplots.AxesSubplot at 0x7f3fb4914860>"
      ]
     },
     "execution_count": 112,
     "metadata": {},
     "output_type": "execute_result"
    },
    {
     "data": {
      "image/png": "[encoded data removed]",
      "text/plain": [
       "<Figure size 432x288 with 1 Axes>"
      ]
     },
     "metadata": {
      "needs_background": "light"
     },
     "output_type": "display_data"
    }
   ],
   "source": [
    "df2 = df.loc[(df['Task'] == 3) & (df['Correct_ans'] > 0)]\n",
    "df2.groupby([\"Animation\"]).agg({'Angle': 'mean'}).plot.bar(rot=0)"
   ]
  },
  {
   "cell_type": "code",
   "execution_count": 113,
   "metadata": {},
   "outputs": [
    {
     "data": {
      "text/plain": [
       "<matplotlib.axes._subplots.AxesSubplot at 0x7f3fb487c6d8>"
      ]
     },
     "execution_count": 113,
     "metadata": {},
     "output_type": "execute_result"
    },
    {
     "data": {
      "image/png": "[encoded data removed]",
      "text/plain": [
       "<Figure size 432x288 with 1 Axes>"
      ]
     },
     "metadata": {
      "needs_background": "light"
     },
     "output_type": "display_data"
    }
   ],
   "source": [
    "df2 = df.loc[(df['Correct_ans'] > 0)]\n",
    "df2.groupby([\"Animation\"]).agg({'Angle': 'mean'}).plot.bar(rot=0)"
   ]
  },
  {
   "cell_type": "code",
   "execution_count": 114,
   "metadata": {},
   "outputs": [
    {
     "data": {
      "text/plain": [
       "<matplotlib.axes._subplots.AxesSubplot at 0x7f3fb4860b00>"
      ]
     },
     "execution_count": 114,
     "metadata": {},
     "output_type": "execute_result"
    },
    {
     "data": {
      "image/png": "[encoded data removed]",
      "text/plain": [
       "<Figure size 432x288 with 1 Axes>"
      ]
     },
     "metadata": {
      "needs_background": "light"
     },
     "output_type": "display_data"
    }
   ],
   "source": [
    "df2 = df.loc[(df['Task'] == 1) & (df['Correct_ans'] > 0)]\n",
    "df2.groupby([\"Animation\"]).agg({'Length': 'mean'}).plot.bar(rot=0)"
   ]
  },
  {
   "cell_type": "code",
   "execution_count": 115,
   "metadata": {},
   "outputs": [
    {
     "data": {
      "text/plain": [
       "<matplotlib.axes._subplots.AxesSubplot at 0x7f3fb47cbdd8>"
      ]
     },
     "execution_count": 115,
     "metadata": {},
     "output_type": "execute_result"
    },
    {
     "data": {
      "image/png": "[encoded data removed]",
      "text/plain": [
       "<Figure size 432x288 with 1 Axes>"
      ]
     },
     "metadata": {
      "needs_background": "light"
     },
     "output_type": "display_data"
    }
   ],
   "source": [
    "df2 = df.loc[(df['Task'] == 2) & (df['Correct_ans'] > 0)]\n",
    "df2.groupby([\"Animation\"]).agg({'Length': 'mean'}).plot.bar(rot=0)"
   ]
  },
  {
   "cell_type": "code",
   "execution_count": 116,
   "metadata": {},
   "outputs": [
    {
     "data": {
      "text/plain": [
       "<matplotlib.axes._subplots.AxesSubplot at 0x7f3fb4743a58>"
      ]
     },
     "execution_count": 116,
     "metadata": {},
     "output_type": "execute_result"
    },
    {
     "data": {
      "image/png": "[encoded data removed]",
      "text/plain": [
       "<Figure size 432x288 with 1 Axes>"
      ]
     },
     "metadata": {
      "needs_background": "light"
     },
     "output_type": "display_data"
    }
   ],
   "source": [
    "df2 = df.loc[(df['Task'] == 3) & (df['Correct_ans'] > 0)]\n",
    "df2.groupby([\"Animation\"]).agg({'Length': 'mean'}).plot.bar(rot=0)"
   ]
  },
  {
   "cell_type": "code",
   "execution_count": 117,
   "metadata": {},
   "outputs": [
    {
     "data": {
      "text/plain": [
       "<matplotlib.axes._subplots.AxesSubplot at 0x7f3fb47216a0>"
      ]
     },
     "execution_count": 117,
     "metadata": {},
     "output_type": "execute_result"
    },
    {
     "data": {
      "image/png": "[encoded data removed]",
      "text/plain": [
       "<Figure size 432x288 with 1 Axes>"
      ]
     },
     "metadata": {
      "needs_background": "light"
     },
     "output_type": "display_data"
    }
   ],
   "source": [
    "df2 = df.loc[(df['Correct_ans'] > 0)]\n",
    "df2.groupby([\"Animation\"]).agg({'Length': 'mean'}).plot.bar(rot=0)"
   ]
  },
  {
   "cell_type": "code",
   "execution_count": 118,
   "metadata": {},
   "outputs": [
    {
     "data": {
      "text/plain": [
       "<matplotlib.axes._subplots.AxesSubplot at 0x7f3fb4685c88>"
      ]
     },
     "execution_count": 118,
     "metadata": {},
     "output_type": "execute_result"
    },
    {
     "data": {
      "image/png": "[encoded data removed]",
      "text/plain": [
       "<Figure size 432x288 with 1 Axes>"
      ]
     },
     "metadata": {
      "needs_background": "light"
     },
     "output_type": "display_data"
    }
   ],
   "source": [
    "df2 = df.loc[(df['Task'] == 1)]\n",
    "df2.groupby([\"Animation\"]).agg({'Correct_ans': 'mean'}).plot.bar(rot=0)"
   ]
  },
  {
   "cell_type": "code",
   "execution_count": 119,
   "metadata": {},
   "outputs": [
    {
     "data": {
      "text/plain": [
       "<matplotlib.axes._subplots.AxesSubplot at 0x7f3fb4670ef0>"
      ]
     },
     "execution_count": 119,
     "metadata": {},
     "output_type": "execute_result"
    },
    {
     "data": {
      "image/png": "[encoded data removed]",
      "text/plain": [
       "<Figure size 432x288 with 1 Axes>"
      ]
     },
     "metadata": {
      "needs_background": "light"
     },
     "output_type": "display_data"
    }
   ],
   "source": [
    "df2 = df.loc[(df['Task'] == 2)]\n",
    "df2.groupby([\"Animation\"]).agg({'Correct_ans': 'mean'}).plot.bar(rot=0)"
   ]
  },
  {
   "cell_type": "code",
   "execution_count": 120,
   "metadata": {},
   "outputs": [
    {
     "data": {
      "text/plain": [
       "<matplotlib.axes._subplots.AxesSubplot at 0x7f3fb45d69b0>"
      ]
     },
     "execution_count": 120,
     "metadata": {},
     "output_type": "execute_result"
    },
    {
     "data": {
      "image/png": "[encoded data removed]",
      "text/plain": [
       "<Figure size 432x288 with 1 Axes>"
      ]
     },
     "metadata": {
      "needs_background": "light"
     },
     "output_type": "display_data"
    }
   ],
   "source": [
    "df2 = df.loc[(df['Task'] == 3)]\n",
    "df2.groupby([\"Animation\"]).agg({'Correct_ans': 'mean'}).plot.bar(rot=0)"
   ]
  },
  {
   "cell_type": "code",
   "execution_count": 121,
   "metadata": {},
   "outputs": [
    {
     "data": {
      "text/plain": [
       "<matplotlib.axes._subplots.AxesSubplot at 0x7f3fb4549390>"
      ]
     },
     "execution_count": 121,
     "metadata": {},
     "output_type": "execute_result"
    },
    {
     "data": {
      "image/png": "[encoded data removed]",
      "text/plain": [
       "<Figure size 432x288 with 1 Axes>"
      ]
     },
     "metadata": {
      "needs_background": "light"
     },
     "output_type": "display_data"
    }
   ],
   "source": [
    "df2 = df\n",
    "df2.groupby([\"Animation\"]).agg({'Correct_ans': 'mean'}).plot.bar(rot=0)"
   ]
  },
  {
   "cell_type": "code",
   "execution_count": 122,
   "metadata": {
    "collapsed": true
   },
   "outputs": [],
   "source": [
    "def correct_ratio(df_sub):\n",
    "    return df_sub['Correct_ans'].sum() / float(df_sub['Total_correct'].sum())"
   ]
  },
  {
   "cell_type": "code",
   "execution_count": 132,
   "metadata": {},
   "outputs": [
    {
     "data": {
      "text/plain": [
       "<matplotlib.axes._subplots.AxesSubplot at 0x7f3fb4084390>"
      ]
     },
     "execution_count": 132,
     "metadata": {},
     "output_type": "execute_result"
    },
    {
     "data": {
      "image/png": "[encoded data removed]",
      "text/plain": [
       "<Figure size 432x288 with 1 Axes>"
      ]
     },
     "metadata": {
      "needs_background": "light"
     },
     "output_type": "display_data"
    }
   ],
   "source": [
    "df2 = df.loc[(df['Task'] == 1)]\n",
    "df2.groupby([\"Animation\"]).apply(correct_ratio).plot.bar(rot=0,color='steelblue')"
   ]
  },
  {
   "cell_type": "code",
   "execution_count": 133,
   "metadata": {},
   "outputs": [
    {
     "data": {
      "text/plain": [
       "<matplotlib.axes._subplots.AxesSubplot at 0x7f3fb4067be0>"
      ]
     },
     "execution_count": 133,
     "metadata": {},
     "output_type": "execute_result"
    },
    {
     "data": {
      "image/png": "[encoded data removed]",
      "text/plain": [
       "<Figure size 432x288 with 1 Axes>"
      ]
     },
     "metadata": {
      "needs_background": "light"
     },
     "output_type": "display_data"
    }
   ],
   "source": [
    "df2 = df.loc[(df['Task'] == 2)]\n",
    "df2.groupby([\"Animation\"]).apply(correct_ratio).plot.bar(rot=0,color='steelblue')"
   ]
  },
  {
   "cell_type": "code",
   "execution_count": 134,
   "metadata": {},
   "outputs": [
    {
     "data": {
      "text/plain": [
       "<matplotlib.axes._subplots.AxesSubplot at 0x7f3fb3fcda90>"
      ]
     },
     "execution_count": 134,
     "metadata": {},
     "output_type": "execute_result"
    },
    {
     "data": {
      "image/png": "[encoded data removed]",
      "text/plain": [
       "<Figure size 432x288 with 1 Axes>"
      ]
     },
     "metadata": {
      "needs_background": "light"
     },
     "output_type": "display_data"
    }
   ],
   "source": [
    "df2 = df.loc[(df['Task'] == 3)]\n",
    "df2.groupby([\"Animation\"]).apply(correct_ratio).plot.bar(rot=0,color='steelblue')"
   ]
  },
  {
   "cell_type": "code",
   "execution_count": 135,
   "metadata": {},
   "outputs": [
    {
     "data": {
      "text/plain": [
       "<matplotlib.axes._subplots.AxesSubplot at 0x7f3fb402ac18>"
      ]
     },
     "execution_count": 135,
     "metadata": {},
     "output_type": "execute_result"
    },
    {
     "data": {
      "image/png": "[encoded data removed]",
      "text/plain": [
       "<Figure size 432x288 with 1 Axes>"
      ]
     },
     "metadata": {
      "needs_background": "light"
     },
     "output_type": "display_data"
    }
   ],
   "source": [
    "df2 = df\n",
    "df2.groupby([\"Animation\"]).apply(correct_ratio).plot.bar(rot=0,color='steelblue')"
   ]
  },
  {
   "cell_type": "code",
   "execution_count": 137,
   "metadata": {},
   "outputs": [
    {
     "data": {
      "text/plain": [
       "<matplotlib.axes._subplots.AxesSubplot at 0x7f3fb3eadeb8>"
      ]
     },
     "execution_count": 137,
     "metadata": {},
     "output_type": "execute_result"
    },
    {
     "data": {
      "image/png": "[encoded data removed]",
      "text/plain": [
       "<Figure size 432x288 with 1 Axes>"
      ]
     },
     "metadata": {
      "needs_background": "light"
     },
     "output_type": "display_data"
    }
   ],
   "source": [
    "df2 = df.loc[(df['Task'] == 1)]\n",
    "df2.groupby([\"Graph\"]).agg({'Correct_ans': 'mean'}).plot.bar(rot=0,color='steelblue')"
   ]
  },
  {
   "cell_type": "code",
   "execution_count": 139,
   "metadata": {},
   "outputs": [
    {
     "data": {
      "text/plain": [
       "<matplotlib.axes._subplots.AxesSubplot at 0x7f3fb3d88fd0>"
      ]
     },
     "execution_count": 139,
     "metadata": {},
     "output_type": "execute_result"
    },
    {
     "data": {
      "image/png": "[encoded data removed]",
      "text/plain": [
       "<Figure size 432x288 with 1 Axes>"
      ]
     },
     "metadata": {
      "needs_background": "light"
     },
     "output_type": "display_data"
    }
   ],
   "source": [
    "df2 = df.loc[(df['Task'] == 2)]\n",
    "df2.groupby([\"Graph\"]).agg({'Correct_ans': 'mean'}).plot.bar(rot=0,color='steelblue')"
   ]
  },
  {
   "cell_type": "code",
   "execution_count": 140,
   "metadata": {},
   "outputs": [
    {
     "data": {
      "text/plain": [
       "<matplotlib.axes._subplots.AxesSubplot at 0x7f3fb3cbdf60>"
      ]
     },
     "execution_count": 140,
     "metadata": {},
     "output_type": "execute_result"
    },
    {
     "data": {
      "image/png": "[encoded data removed]",
      "text/plain": [
       "<Figure size 432x288 with 1 Axes>"
      ]
     },
     "metadata": {
      "needs_background": "light"
     },
     "output_type": "display_data"
    }
   ],
   "source": [
    "df2 = df.loc[(df['Task'] == 3)]\n",
    "df2.groupby([\"Graph\"]).agg({'Correct_ans': 'mean'}).plot.bar(rot=0,color='steelblue')"
   ]
  },
  {
   "cell_type": "code",
   "execution_count": 141,
   "metadata": {},
   "outputs": [
    {
     "data": {
      "text/plain": [
       "<matplotlib.axes._subplots.AxesSubplot at 0x7f3fb3c3f668>"
      ]
     },
     "execution_count": 141,
     "metadata": {},
     "output_type": "execute_result"
    },
    {
     "data": {
      "image/png": "[encoded data removed]",
      "text/plain": [
       "<Figure size 432x288 with 1 Axes>"
      ]
     },
     "metadata": {
      "needs_background": "light"
     },
     "output_type": "display_data"
    }
   ],
   "source": [
    "df2 = df\n",
    "df2.groupby([\"Graph\"]).agg({'Correct_ans': 'mean'}).plot.bar(rot=0,color='steelblue')"
   ]
  },
  {
   "cell_type": "code",
   "execution_count": 142,
   "metadata": {},
   "outputs": [
    {
     "data": {
      "text/plain": [
       "<matplotlib.axes._subplots.AxesSubplot at 0x7f3fb3b114e0>"
      ]
     },
     "execution_count": 142,
     "metadata": {},
     "output_type": "execute_result"
    },
    {
     "data": {
      "image/png": "[encoded data removed]",
      "text/plain": [
       "<Figure size 432x288 with 1 Axes>"
      ]
     },
     "metadata": {
      "needs_background": "light"
     },
     "output_type": "display_data"
    }
   ],
   "source": [
    "df2 = df.loc[(df['Task'] == 1) & (df['Correct_ans'] > 0)]\n",
    "df2.groupby([\"Graph\"]).agg({'Distance': 'mean'}).plot.bar(rot=0)"
   ]
  },
  {
   "cell_type": "code",
   "execution_count": 143,
   "metadata": {},
   "outputs": [
    {
     "data": {
      "text/plain": [
       "<matplotlib.axes._subplots.AxesSubplot at 0x7f3fb3a3c4a8>"
      ]
     },
     "execution_count": 143,
     "metadata": {},
     "output_type": "execute_result"
    },
    {
     "data": {
      "image/png": "[encoded data removed]",
      "text/plain": [
       "<Figure size 432x288 with 1 Axes>"
      ]
     },
     "metadata": {
      "needs_background": "light"
     },
     "output_type": "display_data"
    }
   ],
   "source": [
    "df2 = df.loc[(df['Task'] == 2) & (df['Correct_ans'] > 0)]\n",
    "df2.groupby([\"Graph\"]).agg({'Distance': 'mean'}).plot.bar(rot=0)"
   ]
  },
  {
   "cell_type": "code",
   "execution_count": 144,
   "metadata": {},
   "outputs": [
    {
     "data": {
      "text/plain": [
       "<matplotlib.axes._subplots.AxesSubplot at 0x7f3fb3b111d0>"
      ]
     },
     "execution_count": 144,
     "metadata": {},
     "output_type": "execute_result"
    },
    {
     "data": {
      "image/png": "[encoded data removed]",
      "text/plain": [
       "<Figure size 432x288 with 1 Axes>"
      ]
     },
     "metadata": {
      "needs_background": "light"
     },
     "output_type": "display_data"
    }
   ],
   "source": [
    "df2 = df.loc[(df['Task'] == 3) & (df['Correct_ans'] > 0)]\n",
    "df2.groupby([\"Graph\"]).agg({'Distance': 'mean'}).plot.bar(rot=0)"
   ]
  },
  {
   "cell_type": "code",
   "execution_count": 146,
   "metadata": {},
   "outputs": [
    {
     "data": {
      "text/plain": [
       "<matplotlib.axes._subplots.AxesSubplot at 0x7f3fb383ecf8>"
      ]
     },
     "execution_count": 146,
     "metadata": {},
     "output_type": "execute_result"
    },
    {
     "data": {
      "image/png": "[encoded data removed]",
      "text/plain": [
       "<Figure size 432x288 with 1 Axes>"
      ]
     },
     "metadata": {
      "needs_background": "light"
     },
     "output_type": "display_data"
    }
   ],
   "source": [
    "df2 = df.loc[(df['Correct_ans'] > 0)]\n",
    "df2.groupby([\"Graph\"]).agg({'Distance': 'mean'}).plot.bar(rot=0)"
   ]
  },
  {
   "cell_type": "code",
   "execution_count": 147,
   "metadata": {},
   "outputs": [
    {
     "data": {
      "text/plain": [
       "<matplotlib.axes._subplots.AxesSubplot at 0x7f3fb37f4c88>"
      ]
     },
     "execution_count": 147,
     "metadata": {},
     "output_type": "execute_result"
    },
    {
     "data": {
      "image/png": "[encoded data removed]",
      "text/plain": [
       "<Figure size 432x288 with 1 Axes>"
      ]
     },
     "metadata": {
      "needs_background": "light"
     },
     "output_type": "display_data"
    }
   ],
   "source": [
    "df2 = df.loc[(df['Task'] == 1) & (df['Correct_ans'] > 0)]\n",
    "df2.groupby([\"Graph\"]).agg({'Angle': 'mean'}).plot.bar(rot=0)"
   ]
  },
  {
   "cell_type": "code",
   "execution_count": 148,
   "metadata": {},
   "outputs": [
    {
     "data": {
      "text/plain": [
       "<matplotlib.axes._subplots.AxesSubplot at 0x7f3fb371e6a0>"
      ]
     },
     "execution_count": 148,
     "metadata": {},
     "output_type": "execute_result"
    },
    {
     "data": {
      "image/png": "[encoded data removed]",
      "text/plain": [
       "<Figure size 432x288 with 1 Axes>"
      ]
     },
     "metadata": {
      "needs_background": "light"
     },
     "output_type": "display_data"
    }
   ],
   "source": [
    "df2 = df.loc[(df['Task'] == 2) & (df['Correct_ans'] > 0)]\n",
    "df2.groupby([\"Graph\"]).agg({'Angle': 'mean'}).plot.bar(rot=0)"
   ]
  },
  {
   "cell_type": "code",
   "execution_count": 149,
   "metadata": {},
   "outputs": [
    {
     "data": {
      "text/plain": [
       "<matplotlib.axes._subplots.AxesSubplot at 0x7f3fb3653438>"
      ]
     },
     "execution_count": 149,
     "metadata": {},
     "output_type": "execute_result"
    },
    {
     "data": {
      "image/png": "[encoded data removed]",
      "text/plain": [
       "<Figure size 432x288 with 1 Axes>"
      ]
     },
     "metadata": {
      "needs_background": "light"
     },
     "output_type": "display_data"
    }
   ],
   "source": [
    "df2 = df.loc[(df['Task'] == 3) & (df['Correct_ans'] > 0)]\n",
    "df2.groupby([\"Graph\"]).agg({'Angle': 'mean'}).plot.bar(rot=0)"
   ]
  },
  {
   "cell_type": "code",
   "execution_count": 150,
   "metadata": {},
   "outputs": [
    {
     "data": {
      "text/plain": [
       "<matplotlib.axes._subplots.AxesSubplot at 0x7f3fb38d14e0>"
      ]
     },
     "execution_count": 150,
     "metadata": {},
     "output_type": "execute_result"
    },
    {
     "data": {
      "image/png": "[encoded data removed]",
      "text/plain": [
       "<Figure size 432x288 with 1 Axes>"
      ]
     },
     "metadata": {
      "needs_background": "light"
     },
     "output_type": "display_data"
    }
   ],
   "source": [
    "df2 = df.loc[(df['Correct_ans'] > 0)]\n",
    "df2.groupby([\"Graph\"]).agg({'Angle': 'mean'}).plot.bar(rot=0)"
   ]
  },
  {
   "cell_type": "code",
   "execution_count": 151,
   "metadata": {},
   "outputs": [
    {
     "data": {
      "text/plain": [
       "<matplotlib.axes._subplots.AxesSubplot at 0x7f3fb35299b0>"
      ]
     },
     "execution_count": 151,
     "metadata": {},
     "output_type": "execute_result"
    },
    {
     "data": {
      "image/png": "[encoded data removed]",
      "text/plain": [
       "<Figure size 432x288 with 1 Axes>"
      ]
     },
     "metadata": {
      "needs_background": "light"
     },
     "output_type": "display_data"
    }
   ],
   "source": [
    "df2 = df.loc[(df['Task'] == 1) & (df['Correct_ans'] > 0)]\n",
    "df2.groupby([\"Graph\"]).agg({'Length': 'mean'}).plot.bar(rot=0)"
   ]
  },
  {
   "cell_type": "code",
   "execution_count": 152,
   "metadata": {},
   "outputs": [
    {
     "data": {
      "text/plain": [
       "<matplotlib.axes._subplots.AxesSubplot at 0x7f3fb3582470>"
      ]
     },
     "execution_count": 152,
     "metadata": {},
     "output_type": "execute_result"
    },
    {
     "data": {
      "image/png": "[encoded data removed]",
      "text/plain": [
       "<Figure size 432x288 with 1 Axes>"
      ]
     },
     "metadata": {
      "needs_background": "light"
     },
     "output_type": "display_data"
    }
   ],
   "source": [
    "df2 = df.loc[(df['Task'] == 2) & (df['Correct_ans'] > 0)]\n",
    "df2.groupby([\"Graph\"]).agg({'Length': 'mean'}).plot.bar(rot=0)"
   ]
  },
  {
   "cell_type": "code",
   "execution_count": 153,
   "metadata": {},
   "outputs": [
    {
     "data": {
      "text/plain": [
       "<matplotlib.axes._subplots.AxesSubplot at 0x7f3fb3375d68>"
      ]
     },
     "execution_count": 153,
     "metadata": {},
     "output_type": "execute_result"
    },
    {
     "data": {
      "image/png": "[encoded data removed]",
      "text/plain": [
       "<Figure size 432x288 with 1 Axes>"
      ]
     },
     "metadata": {
      "needs_background": "light"
     },
     "output_type": "display_data"
    }
   ],
   "source": [
    "df2 = df.loc[(df['Task'] == 3) & (df['Correct_ans'] > 0)]\n",
    "df2.groupby([\"Graph\"]).agg({'Length': 'mean'}).plot.bar(rot=0)"
   ]
  },
  {
   "cell_type": "code",
   "execution_count": 154,
   "metadata": {},
   "outputs": [
    {
     "data": {
      "text/plain": [
       "<matplotlib.axes._subplots.AxesSubplot at 0x7f3fb3331f98>"
      ]
     },
     "execution_count": 154,
     "metadata": {},
     "output_type": "execute_result"
    },
    {
     "data": {
      "image/png": "[encoded data removed]",
      "text/plain": [
       "<Figure size 432x288 with 1 Axes>"
      ]
     },
     "metadata": {
      "needs_background": "light"
     },
     "output_type": "display_data"
    }
   ],
   "source": [
    "df2 = df.loc[(df['Correct_ans'] > 0)]\n",
    "df2.groupby([\"Graph\"]).agg({'Length': 'mean'}).plot.bar(rot=0)"
   ]
  },
  {
   "cell_type": "code",
   "execution_count": 155,
   "metadata": {},
   "outputs": [
    {
     "data": {
      "text/html": [
       "<div>\n",
       "<style scoped>\n",
       "    .dataframe tbody tr th:only-of-type {\n",
       "        vertical-align: middle;\n",
       "    }\n",
       "\n",
       "    .dataframe tbody tr th {\n",
       "        vertical-align: top;\n",
       "    }\n",
       "\n",
       "    .dataframe thead th {\n",
       "        text-align: right;\n",
       "    }\n",
       "</style>\n",
       "<table border=\"1\" class=\"dataframe\">\n",
       "  <thead>\n",
       "    <tr style=\"text-align: right;\">\n",
       "      <th></th>\n",
       "      <th>Participant</th>\n",
       "      <th>Graph</th>\n",
       "      <th>Task</th>\n",
       "      <th>Animation</th>\n",
       "      <th>Correct_ans</th>\n",
       "      <th>Total_ans</th>\n",
       "      <th>Total_correct</th>\n",
       "      <th>Distance</th>\n",
       "      <th>Angle</th>\n",
       "      <th>Length</th>\n",
       "    </tr>\n",
       "  </thead>\n",
       "  <tbody>\n",
       "    <tr>\n",
       "      <th>0</th>\n",
       "      <td>Alex</td>\n",
       "      <td>3</td>\n",
       "      <td>1</td>\n",
       "      <td>3</td>\n",
       "      <td>1</td>\n",
       "      <td>1</td>\n",
       "      <td>2</td>\n",
       "      <td>0.104274</td>\n",
       "      <td>8.561427</td>\n",
       "      <td>0.202619</td>\n",
       "    </tr>\n",
       "    <tr>\n",
       "      <th>1</th>\n",
       "      <td>Alex</td>\n",
       "      <td>3</td>\n",
       "      <td>2</td>\n",
       "      <td>3</td>\n",
       "      <td>1</td>\n",
       "      <td>1</td>\n",
       "      <td>3</td>\n",
       "      <td>0.729568</td>\n",
       "      <td>3.799908</td>\n",
       "      <td>1.874092</td>\n",
       "    </tr>\n",
       "    <tr>\n",
       "      <th>2</th>\n",
       "      <td>Alex</td>\n",
       "      <td>3</td>\n",
       "      <td>3</td>\n",
       "      <td>3</td>\n",
       "      <td>1</td>\n",
       "      <td>1</td>\n",
       "      <td>2</td>\n",
       "      <td>0.179503</td>\n",
       "      <td>28.744259</td>\n",
       "      <td>1.166820</td>\n",
       "    </tr>\n",
       "    <tr>\n",
       "      <th>3</th>\n",
       "      <td>Alex</td>\n",
       "      <td>4</td>\n",
       "      <td>1</td>\n",
       "      <td>4</td>\n",
       "      <td>1</td>\n",
       "      <td>1</td>\n",
       "      <td>2</td>\n",
       "      <td>0.128542</td>\n",
       "      <td>32.227737</td>\n",
       "      <td>0.151927</td>\n",
       "    </tr>\n",
       "    <tr>\n",
       "      <th>4</th>\n",
       "      <td>Alex</td>\n",
       "      <td>4</td>\n",
       "      <td>2</td>\n",
       "      <td>4</td>\n",
       "      <td>1</td>\n",
       "      <td>2</td>\n",
       "      <td>2</td>\n",
       "      <td>0.334842</td>\n",
       "      <td>4.404259</td>\n",
       "      <td>1.205117</td>\n",
       "    </tr>\n",
       "    <tr>\n",
       "      <th>5</th>\n",
       "      <td>Alex</td>\n",
       "      <td>4</td>\n",
       "      <td>3</td>\n",
       "      <td>4</td>\n",
       "      <td>3</td>\n",
       "      <td>3</td>\n",
       "      <td>3</td>\n",
       "      <td>0.154080</td>\n",
       "      <td>10.219481</td>\n",
       "      <td>0.127939</td>\n",
       "    </tr>\n",
       "    <tr>\n",
       "      <th>6</th>\n",
       "      <td>Alex</td>\n",
       "      <td>5</td>\n",
       "      <td>1</td>\n",
       "      <td>2</td>\n",
       "      <td>1</td>\n",
       "      <td>1</td>\n",
       "      <td>3</td>\n",
       "      <td>0.060296</td>\n",
       "      <td>16.153820</td>\n",
       "      <td>0.002988</td>\n",
       "    </tr>\n",
       "    <tr>\n",
       "      <th>7</th>\n",
       "      <td>Alex</td>\n",
       "      <td>5</td>\n",
       "      <td>2</td>\n",
       "      <td>2</td>\n",
       "      <td>1</td>\n",
       "      <td>1</td>\n",
       "      <td>2</td>\n",
       "      <td>0.065038</td>\n",
       "      <td>4.661093</td>\n",
       "      <td>0.078523</td>\n",
       "    </tr>\n",
       "    <tr>\n",
       "      <th>8</th>\n",
       "      <td>Alex</td>\n",
       "      <td>5</td>\n",
       "      <td>3</td>\n",
       "      <td>2</td>\n",
       "      <td>0</td>\n",
       "      <td>0</td>\n",
       "      <td>2</td>\n",
       "      <td>1.000000</td>\n",
       "      <td>1.000000</td>\n",
       "      <td>1.000000</td>\n",
       "    </tr>\n",
       "    <tr>\n",
       "      <th>9</th>\n",
       "      <td>Alex</td>\n",
       "      <td>6</td>\n",
       "      <td>1</td>\n",
       "      <td>2</td>\n",
       "      <td>1</td>\n",
       "      <td>1</td>\n",
       "      <td>3</td>\n",
       "      <td>0.380151</td>\n",
       "      <td>15.753953</td>\n",
       "      <td>0.064469</td>\n",
       "    </tr>\n",
       "    <tr>\n",
       "      <th>10</th>\n",
       "      <td>Alex</td>\n",
       "      <td>6</td>\n",
       "      <td>2</td>\n",
       "      <td>2</td>\n",
       "      <td>2</td>\n",
       "      <td>2</td>\n",
       "      <td>3</td>\n",
       "      <td>0.116517</td>\n",
       "      <td>3.263467</td>\n",
       "      <td>0.073714</td>\n",
       "    </tr>\n",
       "    <tr>\n",
       "      <th>11</th>\n",
       "      <td>Alex</td>\n",
       "      <td>6</td>\n",
       "      <td>3</td>\n",
       "      <td>2</td>\n",
       "      <td>1</td>\n",
       "      <td>1</td>\n",
       "      <td>1</td>\n",
       "      <td>0.217597</td>\n",
       "      <td>9.868800</td>\n",
       "      <td>0.251198</td>\n",
       "    </tr>\n",
       "    <tr>\n",
       "      <th>12</th>\n",
       "      <td>Alex</td>\n",
       "      <td>7</td>\n",
       "      <td>1</td>\n",
       "      <td>3</td>\n",
       "      <td>2</td>\n",
       "      <td>2</td>\n",
       "      <td>3</td>\n",
       "      <td>0.231330</td>\n",
       "      <td>2.970807</td>\n",
       "      <td>0.183472</td>\n",
       "    </tr>\n",
       "    <tr>\n",
       "      <th>13</th>\n",
       "      <td>Alex</td>\n",
       "      <td>7</td>\n",
       "      <td>2</td>\n",
       "      <td>3</td>\n",
       "      <td>1</td>\n",
       "      <td>2</td>\n",
       "      <td>1</td>\n",
       "      <td>0.247922</td>\n",
       "      <td>4.216294</td>\n",
       "      <td>0.314232</td>\n",
       "    </tr>\n",
       "    <tr>\n",
       "      <th>14</th>\n",
       "      <td>Alex</td>\n",
       "      <td>7</td>\n",
       "      <td>3</td>\n",
       "      <td>3</td>\n",
       "      <td>1</td>\n",
       "      <td>1</td>\n",
       "      <td>3</td>\n",
       "      <td>0.082286</td>\n",
       "      <td>5.908831</td>\n",
       "      <td>0.231099</td>\n",
       "    </tr>\n",
       "    <tr>\n",
       "      <th>15</th>\n",
       "      <td>Alex</td>\n",
       "      <td>8</td>\n",
       "      <td>1</td>\n",
       "      <td>1</td>\n",
       "      <td>0</td>\n",
       "      <td>0</td>\n",
       "      <td>1</td>\n",
       "      <td>1.000000</td>\n",
       "      <td>1.000000</td>\n",
       "      <td>1.000000</td>\n",
       "    </tr>\n",
       "    <tr>\n",
       "      <th>16</th>\n",
       "      <td>Alex</td>\n",
       "      <td>8</td>\n",
       "      <td>2</td>\n",
       "      <td>1</td>\n",
       "      <td>2</td>\n",
       "      <td>2</td>\n",
       "      <td>3</td>\n",
       "      <td>0.238576</td>\n",
       "      <td>4.563332</td>\n",
       "      <td>0.462407</td>\n",
       "    </tr>\n",
       "    <tr>\n",
       "      <th>17</th>\n",
       "      <td>Alex</td>\n",
       "      <td>8</td>\n",
       "      <td>3</td>\n",
       "      <td>1</td>\n",
       "      <td>1</td>\n",
       "      <td>1</td>\n",
       "      <td>3</td>\n",
       "      <td>0.112066</td>\n",
       "      <td>6.191474</td>\n",
       "      <td>0.260495</td>\n",
       "    </tr>\n",
       "    <tr>\n",
       "      <th>18</th>\n",
       "      <td>Alex</td>\n",
       "      <td>9</td>\n",
       "      <td>1</td>\n",
       "      <td>3</td>\n",
       "      <td>1</td>\n",
       "      <td>1</td>\n",
       "      <td>2</td>\n",
       "      <td>0.261812</td>\n",
       "      <td>7.021243</td>\n",
       "      <td>0.014955</td>\n",
       "    </tr>\n",
       "    <tr>\n",
       "      <th>19</th>\n",
       "      <td>Alex</td>\n",
       "      <td>9</td>\n",
       "      <td>2</td>\n",
       "      <td>3</td>\n",
       "      <td>2</td>\n",
       "      <td>2</td>\n",
       "      <td>3</td>\n",
       "      <td>0.191084</td>\n",
       "      <td>5.502314</td>\n",
       "      <td>0.041591</td>\n",
       "    </tr>\n",
       "    <tr>\n",
       "      <th>20</th>\n",
       "      <td>Alex</td>\n",
       "      <td>9</td>\n",
       "      <td>3</td>\n",
       "      <td>3</td>\n",
       "      <td>1</td>\n",
       "      <td>1</td>\n",
       "      <td>2</td>\n",
       "      <td>0.154253</td>\n",
       "      <td>2.642513</td>\n",
       "      <td>0.101588</td>\n",
       "    </tr>\n",
       "    <tr>\n",
       "      <th>21</th>\n",
       "      <td>Alex</td>\n",
       "      <td>10</td>\n",
       "      <td>1</td>\n",
       "      <td>1</td>\n",
       "      <td>1</td>\n",
       "      <td>1</td>\n",
       "      <td>2</td>\n",
       "      <td>0.064824</td>\n",
       "      <td>19.032015</td>\n",
       "      <td>0.192130</td>\n",
       "    </tr>\n",
       "    <tr>\n",
       "      <th>22</th>\n",
       "      <td>Alex</td>\n",
       "      <td>10</td>\n",
       "      <td>2</td>\n",
       "      <td>1</td>\n",
       "      <td>1</td>\n",
       "      <td>1</td>\n",
       "      <td>2</td>\n",
       "      <td>0.635127</td>\n",
       "      <td>87.421951</td>\n",
       "      <td>0.160747</td>\n",
       "    </tr>\n",
       "    <tr>\n",
       "      <th>23</th>\n",
       "      <td>Alex</td>\n",
       "      <td>10</td>\n",
       "      <td>3</td>\n",
       "      <td>1</td>\n",
       "      <td>1</td>\n",
       "      <td>1</td>\n",
       "      <td>3</td>\n",
       "      <td>0.514214</td>\n",
       "      <td>28.825477</td>\n",
       "      <td>0.020966</td>\n",
       "    </tr>\n",
       "    <tr>\n",
       "      <th>24</th>\n",
       "      <td>Alex</td>\n",
       "      <td>11</td>\n",
       "      <td>1</td>\n",
       "      <td>4</td>\n",
       "      <td>0</td>\n",
       "      <td>0</td>\n",
       "      <td>3</td>\n",
       "      <td>1.000000</td>\n",
       "      <td>1.000000</td>\n",
       "      <td>1.000000</td>\n",
       "    </tr>\n",
       "    <tr>\n",
       "      <th>25</th>\n",
       "      <td>Alex</td>\n",
       "      <td>11</td>\n",
       "      <td>2</td>\n",
       "      <td>4</td>\n",
       "      <td>0</td>\n",
       "      <td>0</td>\n",
       "      <td>2</td>\n",
       "      <td>1.000000</td>\n",
       "      <td>1.000000</td>\n",
       "      <td>1.000000</td>\n",
       "    </tr>\n",
       "    <tr>\n",
       "      <th>26</th>\n",
       "      <td>Alex</td>\n",
       "      <td>11</td>\n",
       "      <td>3</td>\n",
       "      <td>4</td>\n",
       "      <td>1</td>\n",
       "      <td>1</td>\n",
       "      <td>2</td>\n",
       "      <td>0.083609</td>\n",
       "      <td>77.528140</td>\n",
       "      <td>0.199663</td>\n",
       "    </tr>\n",
       "    <tr>\n",
       "      <th>27</th>\n",
       "      <td>Alex</td>\n",
       "      <td>12</td>\n",
       "      <td>1</td>\n",
       "      <td>4</td>\n",
       "      <td>1</td>\n",
       "      <td>1</td>\n",
       "      <td>3</td>\n",
       "      <td>0.225210</td>\n",
       "      <td>0.182286</td>\n",
       "      <td>0.579684</td>\n",
       "    </tr>\n",
       "    <tr>\n",
       "      <th>28</th>\n",
       "      <td>Alex</td>\n",
       "      <td>12</td>\n",
       "      <td>2</td>\n",
       "      <td>4</td>\n",
       "      <td>1</td>\n",
       "      <td>1</td>\n",
       "      <td>3</td>\n",
       "      <td>0.060450</td>\n",
       "      <td>7.506500</td>\n",
       "      <td>0.007848</td>\n",
       "    </tr>\n",
       "    <tr>\n",
       "      <th>29</th>\n",
       "      <td>Alex</td>\n",
       "      <td>12</td>\n",
       "      <td>3</td>\n",
       "      <td>4</td>\n",
       "      <td>1</td>\n",
       "      <td>1</td>\n",
       "      <td>1</td>\n",
       "      <td>0.354791</td>\n",
       "      <td>30.884380</td>\n",
       "      <td>0.488096</td>\n",
       "    </tr>\n",
       "    <tr>\n",
       "      <th>...</th>\n",
       "      <td>...</td>\n",
       "      <td>...</td>\n",
       "      <td>...</td>\n",
       "      <td>...</td>\n",
       "      <td>...</td>\n",
       "      <td>...</td>\n",
       "      <td>...</td>\n",
       "      <td>...</td>\n",
       "      <td>...</td>\n",
       "      <td>...</td>\n",
       "    </tr>\n",
       "    <tr>\n",
       "      <th>150</th>\n",
       "      <td>Serina</td>\n",
       "      <td>13</td>\n",
       "      <td>1</td>\n",
       "      <td>2</td>\n",
       "      <td>2</td>\n",
       "      <td>2</td>\n",
       "      <td>3</td>\n",
       "      <td>0.225952</td>\n",
       "      <td>4.940535</td>\n",
       "      <td>0.604759</td>\n",
       "    </tr>\n",
       "    <tr>\n",
       "      <th>151</th>\n",
       "      <td>Serina</td>\n",
       "      <td>13</td>\n",
       "      <td>2</td>\n",
       "      <td>2</td>\n",
       "      <td>1</td>\n",
       "      <td>1</td>\n",
       "      <td>1</td>\n",
       "      <td>0.586088</td>\n",
       "      <td>9.904173</td>\n",
       "      <td>0.455109</td>\n",
       "    </tr>\n",
       "    <tr>\n",
       "      <th>152</th>\n",
       "      <td>Serina</td>\n",
       "      <td>13</td>\n",
       "      <td>3</td>\n",
       "      <td>2</td>\n",
       "      <td>1</td>\n",
       "      <td>2</td>\n",
       "      <td>3</td>\n",
       "      <td>0.202053</td>\n",
       "      <td>20.841626</td>\n",
       "      <td>0.107116</td>\n",
       "    </tr>\n",
       "    <tr>\n",
       "      <th>153</th>\n",
       "      <td>Serina</td>\n",
       "      <td>14</td>\n",
       "      <td>1</td>\n",
       "      <td>3</td>\n",
       "      <td>1</td>\n",
       "      <td>1</td>\n",
       "      <td>1</td>\n",
       "      <td>0.466591</td>\n",
       "      <td>0.095203</td>\n",
       "      <td>0.175814</td>\n",
       "    </tr>\n",
       "    <tr>\n",
       "      <th>154</th>\n",
       "      <td>Serina</td>\n",
       "      <td>14</td>\n",
       "      <td>2</td>\n",
       "      <td>3</td>\n",
       "      <td>1</td>\n",
       "      <td>1</td>\n",
       "      <td>3</td>\n",
       "      <td>0.052632</td>\n",
       "      <td>1.195265</td>\n",
       "      <td>0.138019</td>\n",
       "    </tr>\n",
       "    <tr>\n",
       "      <th>155</th>\n",
       "      <td>Serina</td>\n",
       "      <td>14</td>\n",
       "      <td>3</td>\n",
       "      <td>3</td>\n",
       "      <td>1</td>\n",
       "      <td>1</td>\n",
       "      <td>3</td>\n",
       "      <td>0.552731</td>\n",
       "      <td>24.307158</td>\n",
       "      <td>0.111010</td>\n",
       "    </tr>\n",
       "    <tr>\n",
       "      <th>156</th>\n",
       "      <td>Serina</td>\n",
       "      <td>15</td>\n",
       "      <td>1</td>\n",
       "      <td>4</td>\n",
       "      <td>1</td>\n",
       "      <td>1</td>\n",
       "      <td>2</td>\n",
       "      <td>0.098985</td>\n",
       "      <td>2.506176</td>\n",
       "      <td>0.061467</td>\n",
       "    </tr>\n",
       "    <tr>\n",
       "      <th>157</th>\n",
       "      <td>Serina</td>\n",
       "      <td>15</td>\n",
       "      <td>2</td>\n",
       "      <td>4</td>\n",
       "      <td>1</td>\n",
       "      <td>1</td>\n",
       "      <td>3</td>\n",
       "      <td>0.245395</td>\n",
       "      <td>3.824337</td>\n",
       "      <td>0.533151</td>\n",
       "    </tr>\n",
       "    <tr>\n",
       "      <th>158</th>\n",
       "      <td>Serina</td>\n",
       "      <td>15</td>\n",
       "      <td>3</td>\n",
       "      <td>4</td>\n",
       "      <td>1</td>\n",
       "      <td>1</td>\n",
       "      <td>2</td>\n",
       "      <td>0.399474</td>\n",
       "      <td>9.671073</td>\n",
       "      <td>0.029936</td>\n",
       "    </tr>\n",
       "    <tr>\n",
       "      <th>159</th>\n",
       "      <td>Serina</td>\n",
       "      <td>16</td>\n",
       "      <td>1</td>\n",
       "      <td>2</td>\n",
       "      <td>1</td>\n",
       "      <td>1</td>\n",
       "      <td>2</td>\n",
       "      <td>0.304833</td>\n",
       "      <td>7.477966</td>\n",
       "      <td>0.451285</td>\n",
       "    </tr>\n",
       "    <tr>\n",
       "      <th>160</th>\n",
       "      <td>Serina</td>\n",
       "      <td>16</td>\n",
       "      <td>2</td>\n",
       "      <td>2</td>\n",
       "      <td>1</td>\n",
       "      <td>1</td>\n",
       "      <td>2</td>\n",
       "      <td>0.377121</td>\n",
       "      <td>2.564970</td>\n",
       "      <td>0.284370</td>\n",
       "    </tr>\n",
       "    <tr>\n",
       "      <th>161</th>\n",
       "      <td>Serina</td>\n",
       "      <td>16</td>\n",
       "      <td>3</td>\n",
       "      <td>2</td>\n",
       "      <td>1</td>\n",
       "      <td>2</td>\n",
       "      <td>3</td>\n",
       "      <td>0.282772</td>\n",
       "      <td>34.254199</td>\n",
       "      <td>0.322034</td>\n",
       "    </tr>\n",
       "    <tr>\n",
       "      <th>162</th>\n",
       "      <td>Serina</td>\n",
       "      <td>17</td>\n",
       "      <td>1</td>\n",
       "      <td>4</td>\n",
       "      <td>1</td>\n",
       "      <td>1</td>\n",
       "      <td>3</td>\n",
       "      <td>0.380962</td>\n",
       "      <td>5.117211</td>\n",
       "      <td>0.155612</td>\n",
       "    </tr>\n",
       "    <tr>\n",
       "      <th>163</th>\n",
       "      <td>Serina</td>\n",
       "      <td>17</td>\n",
       "      <td>2</td>\n",
       "      <td>4</td>\n",
       "      <td>2</td>\n",
       "      <td>2</td>\n",
       "      <td>2</td>\n",
       "      <td>0.714746</td>\n",
       "      <td>4.710464</td>\n",
       "      <td>1.521942</td>\n",
       "    </tr>\n",
       "    <tr>\n",
       "      <th>164</th>\n",
       "      <td>Serina</td>\n",
       "      <td>17</td>\n",
       "      <td>3</td>\n",
       "      <td>4</td>\n",
       "      <td>1</td>\n",
       "      <td>2</td>\n",
       "      <td>2</td>\n",
       "      <td>0.189218</td>\n",
       "      <td>22.540895</td>\n",
       "      <td>0.642952</td>\n",
       "    </tr>\n",
       "    <tr>\n",
       "      <th>165</th>\n",
       "      <td>Serina</td>\n",
       "      <td>18</td>\n",
       "      <td>1</td>\n",
       "      <td>3</td>\n",
       "      <td>1</td>\n",
       "      <td>1</td>\n",
       "      <td>3</td>\n",
       "      <td>0.374630</td>\n",
       "      <td>1.059156</td>\n",
       "      <td>0.303519</td>\n",
       "    </tr>\n",
       "    <tr>\n",
       "      <th>166</th>\n",
       "      <td>Serina</td>\n",
       "      <td>18</td>\n",
       "      <td>2</td>\n",
       "      <td>3</td>\n",
       "      <td>2</td>\n",
       "      <td>2</td>\n",
       "      <td>3</td>\n",
       "      <td>0.337720</td>\n",
       "      <td>8.589544</td>\n",
       "      <td>0.327558</td>\n",
       "    </tr>\n",
       "    <tr>\n",
       "      <th>167</th>\n",
       "      <td>Serina</td>\n",
       "      <td>18</td>\n",
       "      <td>3</td>\n",
       "      <td>3</td>\n",
       "      <td>1</td>\n",
       "      <td>1</td>\n",
       "      <td>1</td>\n",
       "      <td>0.234267</td>\n",
       "      <td>33.827601</td>\n",
       "      <td>0.925474</td>\n",
       "    </tr>\n",
       "    <tr>\n",
       "      <th>168</th>\n",
       "      <td>Serina</td>\n",
       "      <td>19</td>\n",
       "      <td>1</td>\n",
       "      <td>2</td>\n",
       "      <td>1</td>\n",
       "      <td>1</td>\n",
       "      <td>3</td>\n",
       "      <td>0.168084</td>\n",
       "      <td>23.980376</td>\n",
       "      <td>0.338062</td>\n",
       "    </tr>\n",
       "    <tr>\n",
       "      <th>169</th>\n",
       "      <td>Serina</td>\n",
       "      <td>19</td>\n",
       "      <td>2</td>\n",
       "      <td>2</td>\n",
       "      <td>1</td>\n",
       "      <td>1</td>\n",
       "      <td>1</td>\n",
       "      <td>0.491121</td>\n",
       "      <td>44.750746</td>\n",
       "      <td>0.076198</td>\n",
       "    </tr>\n",
       "    <tr>\n",
       "      <th>170</th>\n",
       "      <td>Serina</td>\n",
       "      <td>19</td>\n",
       "      <td>3</td>\n",
       "      <td>2</td>\n",
       "      <td>2</td>\n",
       "      <td>2</td>\n",
       "      <td>3</td>\n",
       "      <td>0.149988</td>\n",
       "      <td>1.490797</td>\n",
       "      <td>0.056045</td>\n",
       "    </tr>\n",
       "    <tr>\n",
       "      <th>171</th>\n",
       "      <td>Serina</td>\n",
       "      <td>20</td>\n",
       "      <td>1</td>\n",
       "      <td>4</td>\n",
       "      <td>1</td>\n",
       "      <td>1</td>\n",
       "      <td>1</td>\n",
       "      <td>0.174313</td>\n",
       "      <td>6.456994</td>\n",
       "      <td>0.664864</td>\n",
       "    </tr>\n",
       "    <tr>\n",
       "      <th>172</th>\n",
       "      <td>Serina</td>\n",
       "      <td>20</td>\n",
       "      <td>2</td>\n",
       "      <td>4</td>\n",
       "      <td>1</td>\n",
       "      <td>1</td>\n",
       "      <td>3</td>\n",
       "      <td>0.353811</td>\n",
       "      <td>6.772085</td>\n",
       "      <td>0.367025</td>\n",
       "    </tr>\n",
       "    <tr>\n",
       "      <th>173</th>\n",
       "      <td>Serina</td>\n",
       "      <td>20</td>\n",
       "      <td>3</td>\n",
       "      <td>4</td>\n",
       "      <td>1</td>\n",
       "      <td>2</td>\n",
       "      <td>3</td>\n",
       "      <td>0.222051</td>\n",
       "      <td>38.588849</td>\n",
       "      <td>0.402381</td>\n",
       "    </tr>\n",
       "    <tr>\n",
       "      <th>174</th>\n",
       "      <td>Serina</td>\n",
       "      <td>21</td>\n",
       "      <td>1</td>\n",
       "      <td>2</td>\n",
       "      <td>1</td>\n",
       "      <td>1</td>\n",
       "      <td>3</td>\n",
       "      <td>0.115819</td>\n",
       "      <td>10.121155</td>\n",
       "      <td>0.161358</td>\n",
       "    </tr>\n",
       "    <tr>\n",
       "      <th>175</th>\n",
       "      <td>Serina</td>\n",
       "      <td>21</td>\n",
       "      <td>2</td>\n",
       "      <td>2</td>\n",
       "      <td>1</td>\n",
       "      <td>1</td>\n",
       "      <td>2</td>\n",
       "      <td>0.149987</td>\n",
       "      <td>2.605047</td>\n",
       "      <td>0.374130</td>\n",
       "    </tr>\n",
       "    <tr>\n",
       "      <th>176</th>\n",
       "      <td>Serina</td>\n",
       "      <td>21</td>\n",
       "      <td>3</td>\n",
       "      <td>2</td>\n",
       "      <td>2</td>\n",
       "      <td>2</td>\n",
       "      <td>2</td>\n",
       "      <td>0.239404</td>\n",
       "      <td>13.448709</td>\n",
       "      <td>0.522273</td>\n",
       "    </tr>\n",
       "    <tr>\n",
       "      <th>177</th>\n",
       "      <td>Serina</td>\n",
       "      <td>22</td>\n",
       "      <td>1</td>\n",
       "      <td>3</td>\n",
       "      <td>1</td>\n",
       "      <td>1</td>\n",
       "      <td>1</td>\n",
       "      <td>0.709871</td>\n",
       "      <td>4.514610</td>\n",
       "      <td>0.243783</td>\n",
       "    </tr>\n",
       "    <tr>\n",
       "      <th>178</th>\n",
       "      <td>Serina</td>\n",
       "      <td>22</td>\n",
       "      <td>2</td>\n",
       "      <td>3</td>\n",
       "      <td>1</td>\n",
       "      <td>1</td>\n",
       "      <td>3</td>\n",
       "      <td>0.188605</td>\n",
       "      <td>5.184237</td>\n",
       "      <td>0.195369</td>\n",
       "    </tr>\n",
       "    <tr>\n",
       "      <th>179</th>\n",
       "      <td>Serina</td>\n",
       "      <td>22</td>\n",
       "      <td>3</td>\n",
       "      <td>3</td>\n",
       "      <td>3</td>\n",
       "      <td>3</td>\n",
       "      <td>3</td>\n",
       "      <td>0.032433</td>\n",
       "      <td>2.522302</td>\n",
       "      <td>0.567697</td>\n",
       "    </tr>\n",
       "  </tbody>\n",
       "</table>\n",
       "<p>180 rows × 10 columns</p>\n",
       "</div>"
      ],
      "text/plain": [
       "    Participant  Graph  Task  Animation  Correct_ans  Total_ans  \\\n",
       "0          Alex      3     1          3            1          1   \n",
       "1          Alex      3     2          3            1          1   \n",
       "2          Alex      3     3          3            1          1   \n",
       "3          Alex      4     1          4            1          1   \n",
       "4          Alex      4     2          4            1          2   \n",
       "5          Alex      4     3          4            3          3   \n",
       "6          Alex      5     1          2            1          1   \n",
       "7          Alex      5     2          2            1          1   \n",
       "8          Alex      5     3          2            0          0   \n",
       "9          Alex      6     1          2            1          1   \n",
       "10         Alex      6     2          2            2          2   \n",
       "11         Alex      6     3          2            1          1   \n",
       "12         Alex      7     1          3            2          2   \n",
       "13         Alex      7     2          3            1          2   \n",
       "14         Alex      7     3          3            1          1   \n",
       "15         Alex      8     1          1            0          0   \n",
       "16         Alex      8     2          1            2          2   \n",
       "17         Alex      8     3          1            1          1   \n",
       "18         Alex      9     1          3            1          1   \n",
       "19         Alex      9     2          3            2          2   \n",
       "20         Alex      9     3          3            1          1   \n",
       "21         Alex     10     1          1            1          1   \n",
       "22         Alex     10     2          1            1          1   \n",
       "23         Alex     10     3          1            1          1   \n",
       "24         Alex     11     1          4            0          0   \n",
       "25         Alex     11     2          4            0          0   \n",
       "26         Alex     11     3          4            1          1   \n",
       "27         Alex     12     1          4            1          1   \n",
       "28         Alex     12     2          4            1          1   \n",
       "29         Alex     12     3          4            1          1   \n",
       "..          ...    ...   ...        ...          ...        ...   \n",
       "150      Serina     13     1          2            2          2   \n",
       "151      Serina     13     2          2            1          1   \n",
       "152      Serina     13     3          2            1          2   \n",
       "153      Serina     14     1          3            1          1   \n",
       "154      Serina     14     2          3            1          1   \n",
       "155      Serina     14     3          3            1          1   \n",
       "156      Serina     15     1          4            1          1   \n",
       "157      Serina     15     2          4            1          1   \n",
       "158      Serina     15     3          4            1          1   \n",
       "159      Serina     16     1          2            1          1   \n",
       "160      Serina     16     2          2            1          1   \n",
       "161      Serina     16     3          2            1          2   \n",
       "162      Serina     17     1          4            1          1   \n",
       "163      Serina     17     2          4            2          2   \n",
       "164      Serina     17     3          4            1          2   \n",
       "165      Serina     18     1          3            1          1   \n",
       "166      Serina     18     2          3            2          2   \n",
       "167      Serina     18     3          3            1          1   \n",
       "168      Serina     19     1          2            1          1   \n",
       "169      Serina     19     2          2            1          1   \n",
       "170      Serina     19     3          2            2          2   \n",
       "171      Serina     20     1          4            1          1   \n",
       "172      Serina     20     2          4            1          1   \n",
       "173      Serina     20     3          4            1          2   \n",
       "174      Serina     21     1          2            1          1   \n",
       "175      Serina     21     2          2            1          1   \n",
       "176      Serina     21     3          2            2          2   \n",
       "177      Serina     22     1          3            1          1   \n",
       "178      Serina     22     2          3            1          1   \n",
       "179      Serina     22     3          3            3          3   \n",
       "\n",
       "     Total_correct  Distance      Angle    Length  \n",
       "0                2  0.104274   8.561427  0.202619  \n",
       "1                3  0.729568   3.799908  1.874092  \n",
       "2                2  0.179503  28.744259  1.166820  \n",
       "3                2  0.128542  32.227737  0.151927  \n",
       "4                2  0.334842   4.404259  1.205117  \n",
       "5                3  0.154080  10.219481  0.127939  \n",
       "6                3  0.060296  16.153820  0.002988  \n",
       "7                2  0.065038   4.661093  0.078523  \n",
       "8                2  1.000000   1.000000  1.000000  \n",
       "9                3  0.380151  15.753953  0.064469  \n",
       "10               3  0.116517   3.263467  0.073714  \n",
       "11               1  0.217597   9.868800  0.251198  \n",
       "12               3  0.231330   2.970807  0.183472  \n",
       "13               1  0.247922   4.216294  0.314232  \n",
       "14               3  0.082286   5.908831  0.231099  \n",
       "15               1  1.000000   1.000000  1.000000  \n",
       "16               3  0.238576   4.563332  0.462407  \n",
       "17               3  0.112066   6.191474  0.260495  \n",
       "18               2  0.261812   7.021243  0.014955  \n",
       "19               3  0.191084   5.502314  0.041591  \n",
       "20               2  0.154253   2.642513  0.101588  \n",
       "21               2  0.064824  19.032015  0.192130  \n",
       "22               2  0.635127  87.421951  0.160747  \n",
       "23               3  0.514214  28.825477  0.020966  \n",
       "24               3  1.000000   1.000000  1.000000  \n",
       "25               2  1.000000   1.000000  1.000000  \n",
       "26               2  0.083609  77.528140  0.199663  \n",
       "27               3  0.225210   0.182286  0.579684  \n",
       "28               3  0.060450   7.506500  0.007848  \n",
       "29               1  0.354791  30.884380  0.488096  \n",
       "..             ...       ...        ...       ...  \n",
       "150              3  0.225952   4.940535  0.604759  \n",
       "151              1  0.586088   9.904173  0.455109  \n",
       "152              3  0.202053  20.841626  0.107116  \n",
       "153              1  0.466591   0.095203  0.175814  \n",
       "154              3  0.052632   1.195265  0.138019  \n",
       "155              3  0.552731  24.307158  0.111010  \n",
       "156              2  0.098985   2.506176  0.061467  \n",
       "157              3  0.245395   3.824337  0.533151  \n",
       "158              2  0.399474   9.671073  0.029936  \n",
       "159              2  0.304833   7.477966  0.451285  \n",
       "160              2  0.377121   2.564970  0.284370  \n",
       "161              3  0.282772  34.254199  0.322034  \n",
       "162              3  0.380962   5.117211  0.155612  \n",
       "163              2  0.714746   4.710464  1.521942  \n",
       "164              2  0.189218  22.540895  0.642952  \n",
       "165              3  0.374630   1.059156  0.303519  \n",
       "166              3  0.337720   8.589544  0.327558  \n",
       "167              1  0.234267  33.827601  0.925474  \n",
       "168              3  0.168084  23.980376  0.338062  \n",
       "169              1  0.491121  44.750746  0.076198  \n",
       "170              3  0.149988   1.490797  0.056045  \n",
       "171              1  0.174313   6.456994  0.664864  \n",
       "172              3  0.353811   6.772085  0.367025  \n",
       "173              3  0.222051  38.588849  0.402381  \n",
       "174              3  0.115819  10.121155  0.161358  \n",
       "175              2  0.149987   2.605047  0.374130  \n",
       "176              2  0.239404  13.448709  0.522273  \n",
       "177              1  0.709871   4.514610  0.243783  \n",
       "178              3  0.188605   5.184237  0.195369  \n",
       "179              3  0.032433   2.522302  0.567697  \n",
       "\n",
       "[180 rows x 10 columns]"
      ]
     },
     "execution_count": 155,
     "metadata": {},
     "output_type": "execute_result"
    }
   ],
   "source": [
    "df"
   ]
  },
  {
   "cell_type": "code",
   "execution_count": 163,
   "metadata": {},
   "outputs": [
    {
     "data": {
      "text/plain": [
       "30"
      ]
     },
     "execution_count": 163,
     "metadata": {},
     "output_type": "execute_result"
    }
   ],
   "source": [
    "len(df.loc[(df['Total_correct'] == 1)])"
   ]
  },
  {
   "cell_type": "code",
   "execution_count": 157,
   "metadata": {
    "collapsed": true
   },
   "outputs": [],
   "source": []
  },
  {
   "cell_type": "code",
   "execution_count": null,
   "metadata": {
    "collapsed": true
   },
   "outputs": [],
   "source": []
  }
 ],
 "metadata": {
  "kernelspec": {
   "display_name": "Python 3",
   "language": "python",
   "name": "python3"
  },
  "language_info": {
   "codemirror_mode": {
    "name": "ipython",
    "version": 3
   },
   "file_extension": ".py",
   "mimetype": "text/x-python",
   "name": "python",
   "nbconvert_exporter": "python",
   "pygments_lexer": "ipython3",
   "version": "3.6.3"
  }
 },
 "nbformat": 4,
 "nbformat_minor": 2
}
