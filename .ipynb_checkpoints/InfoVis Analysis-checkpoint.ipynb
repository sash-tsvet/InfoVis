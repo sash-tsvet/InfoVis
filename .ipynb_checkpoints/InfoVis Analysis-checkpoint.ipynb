{
 "cells": [
  {
   "cell_type": "code",
   "execution_count": 247,
   "metadata": {
    "collapsed": true
   },
   "outputs": [],
   "source": [
    "%matplotlib inline\n",
    "\n",
    "import pickle\n",
    "import math\n",
    "import numpy as np\n",
    "import pandas as pd\n",
    "\n",
    "row_list = []\n",
    "\n",
    "def angle(v1, v2):\n",
    "    v1t = (v1[1][0]-v1[0][0], v1[1][1]-v1[0][1])\n",
    "    v2t = (v2[1][0]-v2[0][0], v2[1][1]-v2[0][1])\n",
    "#     print(v1)\n",
    "# v1 is your firsr vector\n",
    "# v2 is your second vector\n",
    "    ang = abs(np.angle(v1t[0]+v1t[1]*1j, deg=True) - np.angle(v2t[0]+v2t[1]*1j, deg=True))\n",
    "    if ang > 90:\n",
    "        ang =  abs(ang - 180)\n",
    "    if ang > 90:\n",
    "        ang =  abs(ang - 180)\n",
    "        \n",
    "#     print(ang)\n",
    "    return ang\n",
    "\n",
    "def leng(v1, v2):\n",
    "    v1t = (v1[1][0]-v1[0][0], v1[1][1]-v1[0][1])\n",
    "    v2t = (v2[1][0]-v2[0][0], v2[1][1]-v2[0][1])\n",
    "    len1 = math.sqrt((v1t[1]) ** 2 + (v1t[0]) ** 2)\n",
    "    len2 = math.sqrt((v2t[1]) ** 2 + (v2t[0]) ** 2)\n",
    "    deltalen = abs(len2-len1)/len1\n",
    "\n",
    "    return deltalen\n",
    "#     print(v1)\n",
    "# v1 is your firsr vector\n",
    "# v2 is your second vector\n",
    "#     return np.angle(v1t[0]+v1t[1]*1j, deg=True) - np.angle(v2t[0]+v2t[1]*1j, deg=True) \n",
    "\n",
    "def calc_metric(filename, canvas):\n",
    "    f = open(filename, \"rb\")\n",
    "    filename = pickle.load(f)\n",
    "    outfilename = pickle.load(f)\n",
    "    anitype = pickle.load(f)\n",
    "    tasktype = pickle.load(f)\n",
    "    correct_answer = pickle.load(f)\n",
    "    answer_segments = pickle.load(f)\n",
    "    f.close()\n",
    "\n",
    "\n",
    "    metrics = []\n",
    "    sumdistance = 1\n",
    "    sumangle = 1\n",
    "    sumleng = 1\n",
    "    answers_dict = {}\n",
    "    total_answered = 0\n",
    "\n",
    "    for answer_segment in answer_segments:\n",
    "        if len(answer_segment) > 1:\n",
    "            min_distance = 0.2*canvas\n",
    "            bestfit = None\n",
    "            segment_num = -1\n",
    "            for answer_num,correct_segment in enumerate(correct_answer):\n",
    "                dist0 = math.sqrt((correct_segment[0][0] - answer_segment[1][0]) ** 2 + (correct_segment[0][1] - answer_segment[1][1]) ** 2)\n",
    "                dist1 = math.sqrt((correct_segment[1][0] - answer_segment[1][0]) ** 2 + (correct_segment[1][1] - answer_segment[1][1]) ** 2)\n",
    "                #print distances to find the closest point to the end point\n",
    "                dist = min(dist0, dist1)\n",
    "                #print(dist)#, dist0, correct_segment[0][0] - answer_segment[1][0], correct_segment[0][1] - answer_segment[1][1], dist1, correct_segment[1][0] - answer_segment[1][0], (correct_segment[1][1] - answer_segment[1][1]))\n",
    "                if dist < min_distance:\n",
    "                    min_distance = dist\n",
    "                    if dist == dist0:\n",
    "                        bestfit = [correct_segment[1], correct_segment[0]]\n",
    "                    else:\n",
    "                        bestfit = correct_segment\n",
    "                    segment_num = answer_num\n",
    "            if bestfit :\n",
    "                total_answered = total_answered + 1\n",
    "                sumdistance *= min_distance\n",
    "                angle_min = angle(answer_segment, bestfit)\n",
    "    #             print(angle_min, answer_segment, bestfit)\n",
    "\n",
    "                leng_min = leng(answer_segment, bestfit)            \n",
    "                sumangle *= angle_min\n",
    "                sumleng *= leng_min\n",
    "                answers_dict[segment_num] = bestfit\n",
    "                metrics.append([answer_segment, segment_num, bestfit, min_distance, angle_min, leng_min])\n",
    "\n",
    "\n",
    "    numans = len(correct_answer)\n",
    "    answered = len(answers_dict)\n",
    "    \n",
    "    if total_answered > 0 :\n",
    "        sumdistance = sumdistance ** (1. / total_answered)\n",
    "        sumangle = sumangle ** (1. / total_answered)\n",
    "        sumleng = sumleng ** (1. / total_answered)\n",
    "    # print(\"dict:\", answers_dict)\n",
    "    # print(metrics, \"\\n\\n\")\n",
    "    \n",
    "#     print(\"added segments\", answered, \"of\", numans)\n",
    "#     print(\"sum distance metric\", sumdistance)\n",
    "#     print(\"sum angle metric\", sumangle)\n",
    "#     print(\"sum length metric\", sumleng)\n",
    "    \n",
    "    return anitype, answered, total_answered, numans, sumdistance, sumangle, sumleng\n"
   ]
  },
  {
   "cell_type": "code",
   "execution_count": 248,
   "metadata": {
    "collapsed": true
   },
   "outputs": [],
   "source": [
    "# calc_metric(\"Alex/10_3.out\")\n",
    "# calc_metric(\"Alex/3_3.out\")"
   ]
  },
  {
   "cell_type": "code",
   "execution_count": 249,
   "metadata": {
    "collapsed": true
   },
   "outputs": [],
   "source": [
    "participants = [\"Serina\", \"Thar0l(Lesha)\", \"Danya\", \"Andrew\", \"Pavel\", \"Sean\", \"Geoffrey\", \"Mike\", \"Seva\"]\n",
    "plots = range(3,23)\n",
    "tasks = range(1,4)\n",
    "row_list = []\n",
    "\n",
    "for participant in participants:\n",
    "    for plot in plots:\n",
    "        for task in tasks:\n",
    "            \n",
    "            \n",
    "            f = open(\"inputs/\" + str(plot) + \".txt\", \"rb\")\n",
    "            N, Nnorm, Nopp, Nlong, Nside, bottom, top = pickle.load(f)\n",
    "            f.close()\n",
    "            \n",
    "            anitype, answered, total_answered, numans, sumdistance, sumangle, sumleng = calc_metric(participant + \"/\" + str(plot) + \"_\" + str(task) + \".out\", top-bottom)\n",
    "#             if sumdistance / (top-bottom) > 0.2 :\n",
    "#                 answered = 0\n",
    "    \n",
    "            row_list.append([participant, plot, task, anitype, answered, total_answered, numans, sumdistance/(top-bottom), sumangle, sumleng])\n",
    "            \n",
    "\n",
    "df = pd.DataFrame(row_list, columns=['Participant','Graph', 'Task', 'Animation', 'Correct_ans', 'Total_ans', 'Total_correct', 'Distance', 'Angle', 'Length'])\n",
    "\n"
   ]
  },
  {
   "cell_type": "code",
   "execution_count": null,
   "metadata": {
    "collapsed": true
   },
   "outputs": [],
   "source": []
  },
  {
   "cell_type": "code",
   "execution_count": 250,
   "metadata": {},
   "outputs": [
    {
     "data": {
      "text/plain": [
       "<matplotlib.axes._subplots.AxesSubplot at 0x7f8e6bf9f048>"
      ]
     },
     "execution_count": 250,
     "metadata": {},
     "output_type": "execute_result"
    },
    {
     "data": {
      "image/png": "[encoded data removed]",
      "text/plain": [
       "<matplotlib.figure.Figure at 0x7f8e6bf896a0>"
      ]
     },
     "metadata": {},
     "output_type": "display_data"
    }
   ],
   "source": [
    "df2 = df\n",
    "df2.groupby([\"Participant\"]).agg({'Correct_ans': 'sum'}).plot.bar()"
   ]
  },
  {
   "cell_type": "code",
   "execution_count": 251,
   "metadata": {},
   "outputs": [
    {
     "data": {
      "text/plain": [
       "<matplotlib.axes._subplots.AxesSubplot at 0x7f8e6bf9f7f0>"
      ]
     },
     "execution_count": 251,
     "metadata": {},
     "output_type": "execute_result"
    },
    {
     "data": {
      "image/png": "[encoded data removed]",
      "text/plain": [
       "<matplotlib.figure.Figure at 0x7f8e6befb518>"
      ]
     },
     "metadata": {},
     "output_type": "display_data"
    }
   ],
   "source": [
    "df2 = df.loc[(df['Correct_ans'] > 0) ]\n",
    "df2.groupby([\"Participant\"]).agg({'Distance': 'mean'}).plot.bar()"
   ]
  },
  {
   "cell_type": "code",
   "execution_count": 252,
   "metadata": {},
   "outputs": [
    {
     "data": {
      "text/plain": [
       "<matplotlib.axes._subplots.AxesSubplot at 0x7f8e6bf3e828>"
      ]
     },
     "execution_count": 252,
     "metadata": {},
     "output_type": "execute_result"
    },
    {
     "data": {
      "image/png": "[encoded data removed]",
      "text/plain": [
       "<matplotlib.figure.Figure at 0x7f8e6bf94dd8>"
      ]
     },
     "metadata": {},
     "output_type": "display_data"
    }
   ],
   "source": [
    "df2 = df.loc[(df['Correct_ans'] > 0)]\n",
    "df2.groupby([\"Participant\"]).agg({'Angle': 'mean'}).plot.bar()"
   ]
  },
  {
   "cell_type": "code",
   "execution_count": 253,
   "metadata": {},
   "outputs": [
    {
     "data": {
      "text/plain": [
       "<matplotlib.axes._subplots.AxesSubplot at 0x7f8e6bec6dd8>"
      ]
     },
     "execution_count": 253,
     "metadata": {},
     "output_type": "execute_result"
    },
    {
     "data": {
      "image/png": "[encoded data removed]",
      "text/plain": [
       "<matplotlib.figure.Figure at 0x7f8e6bd925f8>"
      ]
     },
     "metadata": {},
     "output_type": "display_data"
    }
   ],
   "source": [
    "df2 = df.loc[(df['Correct_ans'] > 0)]\n",
    "df2.groupby([\"Participant\"]).agg({'Length': 'mean'}).plot.bar()"
   ]
  },
  {
   "cell_type": "code",
   "execution_count": 254,
   "metadata": {},
   "outputs": [
    {
     "data": {
      "text/plain": [
       "<matplotlib.axes._subplots.AxesSubplot at 0x7f8e6bd92e48>"
      ]
     },
     "execution_count": 254,
     "metadata": {},
     "output_type": "execute_result"
    },
    {
     "data": {
      "image/png": "[encoded data removed]",
      "text/plain": [
       "<matplotlib.figure.Figure at 0x7f8e6bd0d198>"
      ]
     },
     "metadata": {},
     "output_type": "display_data"
    }
   ],
   "source": [
    "df2 = df.loc[(df['Task'] == 1) & (df['Correct_ans'] > 0)]\n",
    "df2.groupby([\"Animation\"]).agg({'Distance': 'mean'}).plot.bar(rot=0)"
   ]
  },
  {
   "cell_type": "code",
   "execution_count": 255,
   "metadata": {},
   "outputs": [
    {
     "data": {
      "text/plain": [
       "<matplotlib.axes._subplots.AxesSubplot at 0x7f8e6bd382b0>"
      ]
     },
     "execution_count": 255,
     "metadata": {},
     "output_type": "execute_result"
    },
    {
     "data": {
      "image/png": "[encoded data removed]",
      "text/plain": [
       "<matplotlib.figure.Figure at 0x7f8e6bcd78d0>"
      ]
     },
     "metadata": {},
     "output_type": "display_data"
    }
   ],
   "source": [
    "df2 = df.loc[(df['Task'] == 2) & (df['Correct_ans'] > 0)]\n",
    "df2.groupby([\"Animation\"]).agg({'Distance': 'mean'}).plot.bar(rot=0)"
   ]
  },
  {
   "cell_type": "code",
   "execution_count": 256,
   "metadata": {},
   "outputs": [
    {
     "data": {
      "text/plain": [
       "<matplotlib.axes._subplots.AxesSubplot at 0x7f8e6bc94518>"
      ]
     },
     "execution_count": 256,
     "metadata": {},
     "output_type": "execute_result"
    },
    {
     "data": {
      "image/png": "[encoded data removed]",
      "text/plain": [
       "<matplotlib.figure.Figure at 0x7f8e6bc6eb70>"
      ]
     },
     "metadata": {},
     "output_type": "display_data"
    }
   ],
   "source": [
    "df2 = df.loc[(df['Task'] == 3) & (df['Correct_ans'] > 0)]\n",
    "df2.groupby([\"Animation\"]).agg({'Distance': 'mean'}).plot.bar(rot=0)"
   ]
  },
  {
   "cell_type": "code",
   "execution_count": 257,
   "metadata": {},
   "outputs": [
    {
     "data": {
      "text/plain": [
       "<matplotlib.axes._subplots.AxesSubplot at 0x7f8e6bc83eb8>"
      ]
     },
     "execution_count": 257,
     "metadata": {},
     "output_type": "execute_result"
    },
    {
     "data": {
      "image/png": "[encoded data removed]",
      "text/plain": [
       "<matplotlib.figure.Figure at 0x7f8e6bbdfbe0>"
      ]
     },
     "metadata": {},
     "output_type": "display_data"
    }
   ],
   "source": [
    "df2 = df.loc[ (df['Correct_ans'] > 0)]\n",
    "df2.groupby([\"Animation\"]).agg({'Distance': 'mean'}).plot.bar(rot=0)"
   ]
  },
  {
   "cell_type": "code",
   "execution_count": 258,
   "metadata": {},
   "outputs": [
    {
     "data": {
      "text/plain": [
       "<matplotlib.axes._subplots.AxesSubplot at 0x7f8e6bbc57f0>"
      ]
     },
     "execution_count": 258,
     "metadata": {},
     "output_type": "execute_result"
    },
    {
     "data": {
      "image/png": "[encoded data removed]",
      "text/plain": [
       "<matplotlib.figure.Figure at 0x7f8e6bbb9588>"
      ]
     },
     "metadata": {},
     "output_type": "display_data"
    }
   ],
   "source": [
    "df2 = df.loc[(df['Task'] == 1) & (df['Correct_ans'] > 0)]\n",
    "df2.groupby([\"Animation\"]).agg({'Angle': 'mean'}).plot.bar(rot=0)"
   ]
  },
  {
   "cell_type": "code",
   "execution_count": 300,
   "metadata": {},
   "outputs": [
    {
     "data": {
      "text/plain": [
       "<matplotlib.axes._subplots.AxesSubplot at 0x7f8e6a73f128>"
      ]
     },
     "execution_count": 300,
     "metadata": {},
     "output_type": "execute_result"
    },
    {
     "data": {
      "image/png": "[encoded data removed]",
      "text/plain": [
       "<matplotlib.figure.Figure at 0x7f8e6a6d8470>"
      ]
     },
     "metadata": {},
     "output_type": "display_data"
    }
   ],
   "source": [
    "df2 = df.loc[(df['Task'] == 2) & (df['Correct_ans'] > 0)]\n",
    "df2.groupby([\"Animation\"]).agg({'Angle': 'mean'}).plot.bar(rot=0)"
   ]
  },
  {
   "cell_type": "code",
   "execution_count": 302,
   "metadata": {},
   "outputs": [
    {
     "data": {
      "text/plain": [
       "<matplotlib.axes._subplots.AxesSubplot at 0x7f8e6a61b208>"
      ]
     },
     "execution_count": 302,
     "metadata": {},
     "output_type": "execute_result"
    },
    {
     "data": {
      "image/png": "[encoded data removed]",
      "text/plain": [
       "<matplotlib.figure.Figure at 0x7f8e6a60eb70>"
      ]
     },
     "metadata": {},
     "output_type": "display_data"
    }
   ],
   "source": [
    "df2 = df.loc[(df['Task'] == 3) & (df['Correct_ans'] > 0)]\n",
    "df2.groupby([\"Animation\"]).agg({'Angle': 'mean'}).plot.bar(rot=0)"
   ]
  },
  {
   "cell_type": "code",
   "execution_count": 304,
   "metadata": {},
   "outputs": [
    {
     "data": {
      "text/plain": [
       "<matplotlib.axes._subplots.AxesSubplot at 0x7f8e6a560278>"
      ]
     },
     "execution_count": 304,
     "metadata": {},
     "output_type": "execute_result"
    },
    {
     "data": {
      "image/png": "[encoded data removed]",
      "text/plain": [
       "<matplotlib.figure.Figure at 0x7f8e6a5a59e8>"
      ]
     },
     "metadata": {},
     "output_type": "display_data"
    }
   ],
   "source": [
    "df2 = df.loc[(df['Correct_ans'] > 0)]\n",
    "df2.groupby([\"Animation\"]).agg({'Angle': 'mean'}).plot.bar(rot=0)"
   ]
  },
  {
   "cell_type": "code",
   "execution_count": 262,
   "metadata": {},
   "outputs": [
    {
     "data": {
      "text/plain": [
       "<matplotlib.axes._subplots.AxesSubplot at 0x7f8e6ba0e9e8>"
      ]
     },
     "execution_count": 262,
     "metadata": {},
     "output_type": "execute_result"
    },
    {
     "data": {
      "image/png": "[encoded data removed]",
      "text/plain": [
       "<matplotlib.figure.Figure at 0x7f8e6b9e1a20>"
      ]
     },
     "metadata": {},
     "output_type": "display_data"
    }
   ],
   "source": [
    "df2 = df.loc[(df['Task'] == 1) & (df['Correct_ans'] > 0)]\n",
    "df2.groupby([\"Animation\"]).agg({'Length': 'mean'}).plot.bar(rot=0)"
   ]
  },
  {
   "cell_type": "code",
   "execution_count": 296,
   "metadata": {},
   "outputs": [
    {
     "data": {
      "text/plain": [
       "<matplotlib.axes._subplots.AxesSubplot at 0x7f8e6aaaff60>"
      ]
     },
     "execution_count": 296,
     "metadata": {},
     "output_type": "execute_result"
    },
    {
     "data": {
      "image/png": "[encoded data removed]",
      "text/plain": [
       "<matplotlib.figure.Figure at 0x7f8e6aa82ba8>"
      ]
     },
     "metadata": {},
     "output_type": "display_data"
    }
   ],
   "source": [
    "df2 = df.loc[(df['Task'] == 2) & (df['Correct_ans'] > 0)]\n",
    "df2.groupby([\"Animation\"]).agg({'Length': 'mean'}).plot.bar(rot=0)"
   ]
  },
  {
   "cell_type": "code",
   "execution_count": 264,
   "metadata": {},
   "outputs": [
    {
     "data": {
      "text/plain": [
       "<matplotlib.axes._subplots.AxesSubplot at 0x7f8e6b9831d0>"
      ]
     },
     "execution_count": 264,
     "metadata": {},
     "output_type": "execute_result"
    },
    {
     "data": {
      "image/png": "[encoded data removed]",
      "text/plain": [
       "<matplotlib.figure.Figure at 0x7f8e6b94a550>"
      ]
     },
     "metadata": {},
     "output_type": "display_data"
    }
   ],
   "source": [
    "df2 = df.loc[(df['Task'] == 3) & (df['Correct_ans'] > 0)]\n",
    "df2.groupby([\"Animation\"]).agg({'Length': 'mean'}).plot.bar(rot=0)"
   ]
  },
  {
   "cell_type": "code",
   "execution_count": 265,
   "metadata": {},
   "outputs": [
    {
     "data": {
      "text/plain": [
       "<matplotlib.axes._subplots.AxesSubplot at 0x7f8e6b89e240>"
      ]
     },
     "execution_count": 265,
     "metadata": {},
     "output_type": "execute_result"
    },
    {
     "data": {
      "image/png": "[encoded data removed]",
      "text/plain": [
       "<matplotlib.figure.Figure at 0x7f8e6b8f2710>"
      ]
     },
     "metadata": {},
     "output_type": "display_data"
    }
   ],
   "source": [
    "df2 = df.loc[(df['Correct_ans'] > 0)]\n",
    "df2.groupby([\"Animation\"]).agg({'Length': 'mean'}).plot.bar(rot=0)"
   ]
  },
  {
   "cell_type": "code",
   "execution_count": 266,
   "metadata": {},
   "outputs": [
    {
     "data": {
      "text/plain": [
       "<matplotlib.axes._subplots.AxesSubplot at 0x7f8e6b8c5e48>"
      ]
     },
     "execution_count": 266,
     "metadata": {},
     "output_type": "execute_result"
    },
    {
     "data": {
      "image/png": "[encoded data removed]",
      "text/plain": [
       "<matplotlib.figure.Figure at 0x7f8e6b816358>"
      ]
     },
     "metadata": {},
     "output_type": "display_data"
    }
   ],
   "source": [
    "df2 = df.loc[(df['Task'] == 1)]\n",
    "df2.groupby([\"Animation\"]).agg({'Correct_ans': 'mean'}).plot.bar(rot=0)"
   ]
  },
  {
   "cell_type": "code",
   "execution_count": 267,
   "metadata": {},
   "outputs": [
    {
     "data": {
      "text/plain": [
       "<matplotlib.axes._subplots.AxesSubplot at 0x7f8e6b82e550>"
      ]
     },
     "execution_count": 267,
     "metadata": {},
     "output_type": "execute_result"
    },
    {
     "data": {
      "image/png": "[encoded data removed]",
      "text/plain": [
       "<matplotlib.figure.Figure at 0x7f8e6b8094a8>"
      ]
     },
     "metadata": {},
     "output_type": "display_data"
    }
   ],
   "source": [
    "df2 = df.loc[(df['Task'] == 2)]\n",
    "df2.groupby([\"Animation\"]).agg({'Correct_ans': 'mean'}).plot.bar(rot=0)"
   ]
  },
  {
   "cell_type": "code",
   "execution_count": 268,
   "metadata": {},
   "outputs": [
    {
     "data": {
      "text/plain": [
       "<matplotlib.axes._subplots.AxesSubplot at 0x7f8e6b7800f0>"
      ]
     },
     "execution_count": 268,
     "metadata": {},
     "output_type": "execute_result"
    },
    {
     "data": {
      "image/png": "[encoded data removed]",
      "text/plain": [
       "<matplotlib.figure.Figure at 0x7f8e6b770748>"
      ]
     },
     "metadata": {},
     "output_type": "display_data"
    }
   ],
   "source": [
    "df2 = df.loc[(df['Task'] == 3)]\n",
    "df2.groupby([\"Animation\"]).agg({'Correct_ans': 'mean'}).plot.bar(rot=0)"
   ]
  },
  {
   "cell_type": "code",
   "execution_count": 269,
   "metadata": {},
   "outputs": [
    {
     "data": {
      "text/plain": [
       "<matplotlib.axes._subplots.AxesSubplot at 0x7f8e6b7189b0>"
      ]
     },
     "execution_count": 269,
     "metadata": {},
     "output_type": "execute_result"
    },
    {
     "data": {
      "image/png": "[encoded data removed]",
      "text/plain": [
       "<matplotlib.figure.Figure at 0x7f8e6be6ada0>"
      ]
     },
     "metadata": {},
     "output_type": "display_data"
    }
   ],
   "source": [
    "df2 = df\n",
    "df2.groupby([\"Animation\"]).agg({'Correct_ans': 'mean'}).plot.bar(rot=0)"
   ]
  },
  {
   "cell_type": "code",
   "execution_count": 270,
   "metadata": {
    "collapsed": true
   },
   "outputs": [],
   "source": [
    "def correct_ratio(df_sub):\n",
    "    return df_sub['Correct_ans'].sum() / float(df_sub['Total_correct'].sum())"
   ]
  },
  {
   "cell_type": "code",
   "execution_count": 271,
   "metadata": {},
   "outputs": [
    {
     "data": {
      "text/plain": [
       "<matplotlib.axes._subplots.AxesSubplot at 0x7f8e6b6cb320>"
      ]
     },
     "execution_count": 271,
     "metadata": {},
     "output_type": "execute_result"
    },
    {
     "data": {
      "image/png": "[encoded data removed]",
      "text/plain": [
       "<matplotlib.figure.Figure at 0x7f8e6be6af28>"
      ]
     },
     "metadata": {},
     "output_type": "display_data"
    }
   ],
   "source": [
    "df2 = df.loc[(df['Task'] == 1)]\n",
    "df2.groupby([\"Animation\"]).apply(correct_ratio).plot.bar(rot=0,color='steelblue')"
   ]
  },
  {
   "cell_type": "code",
   "execution_count": 272,
   "metadata": {},
   "outputs": [
    {
     "data": {
      "text/plain": [
       "<matplotlib.axes._subplots.AxesSubplot at 0x7f8e6b65a630>"
      ]
     },
     "execution_count": 272,
     "metadata": {},
     "output_type": "execute_result"
    },
    {
     "data": {
      "image/png": "[encoded data removed]",
      "text/plain": [
       "<matplotlib.figure.Figure at 0x7f8e6b62e390>"
      ]
     },
     "metadata": {},
     "output_type": "display_data"
    }
   ],
   "source": [
    "df2 = df.loc[(df['Task'] == 2)]\n",
    "df2.groupby([\"Animation\"]).apply(correct_ratio).plot.bar(rot=0,color='steelblue')"
   ]
  },
  {
   "cell_type": "code",
   "execution_count": 273,
   "metadata": {},
   "outputs": [
    {
     "data": {
      "text/plain": [
       "<matplotlib.axes._subplots.AxesSubplot at 0x7f8e6b62eda0>"
      ]
     },
     "execution_count": 273,
     "metadata": {},
     "output_type": "execute_result"
    },
    {
     "data": {
      "image/png": "[encoded data removed]",
      "text/plain": [
       "<matplotlib.figure.Figure at 0x7f8e6b670048>"
      ]
     },
     "metadata": {},
     "output_type": "display_data"
    }
   ],
   "source": [
    "df2 = df.loc[(df['Task'] == 3)]\n",
    "df2.groupby([\"Animation\"]).apply(correct_ratio).plot.bar(rot=0,color='steelblue')"
   ]
  },
  {
   "cell_type": "code",
   "execution_count": 274,
   "metadata": {},
   "outputs": [
    {
     "data": {
      "text/plain": [
       "<matplotlib.axes._subplots.AxesSubplot at 0x7f8e6b5ae048>"
      ]
     },
     "execution_count": 274,
     "metadata": {},
     "output_type": "execute_result"
    },
    {
     "data": {
      "image/png": "[encoded data removed]",
      "text/plain": [
       "<matplotlib.figure.Figure at 0x7f8e6b6322b0>"
      ]
     },
     "metadata": {},
     "output_type": "display_data"
    }
   ],
   "source": [
    "df2 = df\n",
    "df2.groupby([\"Animation\"]).apply(correct_ratio).plot.bar(rot=0,color='steelblue')"
   ]
  },
  {
   "cell_type": "code",
   "execution_count": 275,
   "metadata": {},
   "outputs": [
    {
     "data": {
      "text/plain": [
       "<matplotlib.axes._subplots.AxesSubplot at 0x7f8e6b4e09b0>"
      ]
     },
     "execution_count": 275,
     "metadata": {},
     "output_type": "execute_result"
    },
    {
     "data": {
      "image/png": "[encoded data removed]",
      "text/plain": [
       "<matplotlib.figure.Figure at 0x7f8e6b5ae748>"
      ]
     },
     "metadata": {},
     "output_type": "display_data"
    }
   ],
   "source": [
    "df2 = df.loc[(df['Task'] == 1)]\n",
    "df2.groupby([\"Graph\"]).agg({'Correct_ans': 'mean'}).plot.bar(rot=0,color='steelblue')"
   ]
  },
  {
   "cell_type": "code",
   "execution_count": 276,
   "metadata": {},
   "outputs": [
    {
     "data": {
      "text/plain": [
       "<matplotlib.axes._subplots.AxesSubplot at 0x7f8e6b5ae7b8>"
      ]
     },
     "execution_count": 276,
     "metadata": {},
     "output_type": "execute_result"
    },
    {
     "data": {
      "image/png": "[encoded data removed]",
      "text/plain": [
       "<matplotlib.figure.Figure at 0x7f8e6b5bceb8>"
      ]
     },
     "metadata": {},
     "output_type": "display_data"
    }
   ],
   "source": [
    "df2 = df.loc[(df['Task'] == 2)]\n",
    "df2.groupby([\"Graph\"]).agg({'Correct_ans': 'mean'}).plot.bar(rot=0,color='steelblue')"
   ]
  },
  {
   "cell_type": "code",
   "execution_count": 277,
   "metadata": {},
   "outputs": [
    {
     "data": {
      "text/plain": [
       "<matplotlib.axes._subplots.AxesSubplot at 0x7f8e6b5bc240>"
      ]
     },
     "execution_count": 277,
     "metadata": {},
     "output_type": "execute_result"
    },
    {
     "data": {
      "image/png": "[encoded data removed]",
      "text/plain": [
       "<matplotlib.figure.Figure at 0x7f8e6b39c828>"
      ]
     },
     "metadata": {},
     "output_type": "display_data"
    }
   ],
   "source": [
    "df2 = df.loc[(df['Task'] == 3)]\n",
    "df2.groupby([\"Graph\"]).agg({'Correct_ans': 'mean'}).plot.bar(rot=0,color='steelblue')"
   ]
  },
  {
   "cell_type": "code",
   "execution_count": 278,
   "metadata": {},
   "outputs": [
    {
     "data": {
      "text/plain": [
       "<matplotlib.axes._subplots.AxesSubplot at 0x7f8e6b349f28>"
      ]
     },
     "execution_count": 278,
     "metadata": {},
     "output_type": "execute_result"
    },
    {
     "data": {
      "image/png": "[encoded data removed]",
      "text/plain": [
       "<matplotlib.figure.Figure at 0x7f8e6b517e80>"
      ]
     },
     "metadata": {},
     "output_type": "display_data"
    }
   ],
   "source": [
    "df2 = df\n",
    "df2.groupby([\"Graph\"]).agg({'Correct_ans': 'mean'}).plot.bar(rot=0,color='steelblue')"
   ]
  },
  {
   "cell_type": "code",
   "execution_count": 279,
   "metadata": {},
   "outputs": [
    {
     "data": {
      "text/plain": [
       "<matplotlib.axes._subplots.AxesSubplot at 0x7f8e6b2e54a8>"
      ]
     },
     "execution_count": 279,
     "metadata": {},
     "output_type": "execute_result"
    },
    {
     "data": {
      "image/png": "[encoded data removed]",
      "text/plain": [
       "<matplotlib.figure.Figure at 0x7f8e6b2713c8>"
      ]
     },
     "metadata": {},
     "output_type": "display_data"
    }
   ],
   "source": [
    "df2 = df.loc[(df['Task'] == 1) & (df['Correct_ans'] > 0)]\n",
    "df2.groupby([\"Graph\"]).agg({'Distance': 'mean'}).plot.bar(rot=0)"
   ]
  },
  {
   "cell_type": "code",
   "execution_count": 280,
   "metadata": {},
   "outputs": [
    {
     "data": {
      "text/plain": [
       "<matplotlib.axes._subplots.AxesSubplot at 0x7f8e6b1cf550>"
      ]
     },
     "execution_count": 280,
     "metadata": {},
     "output_type": "execute_result"
    },
    {
     "data": {
      "image/png": "[encoded data removed]",
      "text/plain": [
       "<matplotlib.figure.Figure at 0x7f8e6b1babe0>"
      ]
     },
     "metadata": {},
     "output_type": "display_data"
    }
   ],
   "source": [
    "df2 = df.loc[(df['Task'] == 2) & (df['Correct_ans'] > 0)]\n",
    "df2.groupby([\"Graph\"]).agg({'Distance': 'mean'}).plot.bar(rot=0)"
   ]
  },
  {
   "cell_type": "code",
   "execution_count": 281,
   "metadata": {},
   "outputs": [
    {
     "data": {
      "text/plain": [
       "<matplotlib.axes._subplots.AxesSubplot at 0x7f8e6b173a20>"
      ]
     },
     "execution_count": 281,
     "metadata": {},
     "output_type": "execute_result"
    },
    {
     "data": {
      "image/png": "[encoded data removed]",
      "text/plain": [
       "<matplotlib.figure.Figure at 0x7f8e6b2f1a20>"
      ]
     },
     "metadata": {},
     "output_type": "display_data"
    }
   ],
   "source": [
    "df2 = df.loc[(df['Task'] == 3) & (df['Correct_ans'] > 0)]\n",
    "df2.groupby([\"Graph\"]).agg({'Distance': 'mean'}).plot.bar(rot=0)"
   ]
  },
  {
   "cell_type": "code",
   "execution_count": 282,
   "metadata": {},
   "outputs": [
    {
     "data": {
      "text/plain": [
       "<matplotlib.axes._subplots.AxesSubplot at 0x7f8e6b07ff28>"
      ]
     },
     "execution_count": 282,
     "metadata": {},
     "output_type": "execute_result"
    },
    {
     "data": {
      "image/png": "[encoded data removed]",
      "text/plain": [
       "<matplotlib.figure.Figure at 0x7f8e6b01dcf8>"
      ]
     },
     "metadata": {},
     "output_type": "display_data"
    }
   ],
   "source": [
    "df2 = df.loc[(df['Correct_ans'] > 0)]\n",
    "df2.groupby([\"Graph\"]).agg({'Distance': 'mean'}).plot.bar(rot=0)"
   ]
  },
  {
   "cell_type": "code",
   "execution_count": 283,
   "metadata": {},
   "outputs": [
    {
     "data": {
      "text/plain": [
       "<matplotlib.axes._subplots.AxesSubplot at 0x7f8e6b02ba20>"
      ]
     },
     "execution_count": 283,
     "metadata": {},
     "output_type": "execute_result"
    },
    {
     "data": {
      "image/png": "[encoded data removed]",
      "text/plain": [
       "<matplotlib.figure.Figure at 0x7f8e6afbf908>"
      ]
     },
     "metadata": {},
     "output_type": "display_data"
    }
   ],
   "source": [
    "df2 = df.loc[(df['Task'] == 1) & (df['Correct_ans'] > 0)]\n",
    "df2.groupby([\"Graph\"]).agg({'Angle': 'mean'}).plot.bar(rot=0)"
   ]
  },
  {
   "cell_type": "code",
   "execution_count": 298,
   "metadata": {},
   "outputs": [
    {
     "data": {
      "text/plain": [
       "<matplotlib.axes._subplots.AxesSubplot at 0x7f8e6a92f400>"
      ]
     },
     "execution_count": 298,
     "metadata": {},
     "output_type": "execute_result"
    },
    {
     "data": {
      "image/png": "[encoded data removed]",
      "text/plain": [
       "<matplotlib.figure.Figure at 0x7f8e6a879908>"
      ]
     },
     "metadata": {},
     "output_type": "display_data"
    }
   ],
   "source": [
    "df2 = df.loc[(df['Task'] == 2) & (df['Correct_ans'] > 0)]\n",
    "df2.groupby([\"Graph\"]).agg({'Angle': 'mean'}).plot.bar(rot=0)"
   ]
  },
  {
   "cell_type": "code",
   "execution_count": 285,
   "metadata": {},
   "outputs": [
    {
     "data": {
      "text/plain": [
       "<matplotlib.axes._subplots.AxesSubplot at 0x7f8e6aeb1390>"
      ]
     },
     "execution_count": 285,
     "metadata": {},
     "output_type": "execute_result"
    },
    {
     "data": {
      "image/png": "[encoded data removed]",
      "text/plain": [
       "<matplotlib.figure.Figure at 0x7f8e6ae85278>"
      ]
     },
     "metadata": {},
     "output_type": "display_data"
    }
   ],
   "source": [
    "df2 = df.loc[(df['Task'] == 3) & (df['Correct_ans'] > 0)]\n",
    "df2.groupby([\"Graph\"]).agg({'Angle': 'mean'}).plot.bar(rot=0)"
   ]
  },
  {
   "cell_type": "code",
   "execution_count": 286,
   "metadata": {},
   "outputs": [
    {
     "data": {
      "text/plain": [
       "<matplotlib.axes._subplots.AxesSubplot at 0x7f8e6adebb38>"
      ]
     },
     "execution_count": 286,
     "metadata": {},
     "output_type": "execute_result"
    },
    {
     "data": {
      "image/png": "[encoded data removed]",
      "text/plain": [
       "<matplotlib.figure.Figure at 0x7f8e6afcad30>"
      ]
     },
     "metadata": {},
     "output_type": "display_data"
    }
   ],
   "source": [
    "df2 = df.loc[(df['Correct_ans'] > 0)]\n",
    "df2.groupby([\"Graph\"]).agg({'Angle': 'mean'}).plot.bar(rot=0)"
   ]
  },
  {
   "cell_type": "code",
   "execution_count": 287,
   "metadata": {},
   "outputs": [
    {
     "data": {
      "text/plain": [
       "<matplotlib.axes._subplots.AxesSubplot at 0x7f8e6add99e8>"
      ]
     },
     "execution_count": 287,
     "metadata": {},
     "output_type": "execute_result"
    },
    {
     "data": {
      "image/png": "[encoded data removed]",
      "text/plain": [
       "<matplotlib.figure.Figure at 0x7f8e6aced6a0>"
      ]
     },
     "metadata": {},
     "output_type": "display_data"
    }
   ],
   "source": [
    "df2 = df.loc[(df['Task'] == 1) & (df['Correct_ans'] > 0)]\n",
    "df2.groupby([\"Graph\"]).agg({'Length': 'mean'}).plot.bar(rot=0)"
   ]
  },
  {
   "cell_type": "code",
   "execution_count": 288,
   "metadata": {},
   "outputs": [
    {
     "data": {
      "text/plain": [
       "<matplotlib.axes._subplots.AxesSubplot at 0x7f8e6ace6d30>"
      ]
     },
     "execution_count": 288,
     "metadata": {},
     "output_type": "execute_result"
    },
    {
     "data": {
      "image/png": "[encoded data removed]",
      "text/plain": [
       "<matplotlib.figure.Figure at 0x7f8e6ad83588>"
      ]
     },
     "metadata": {},
     "output_type": "display_data"
    }
   ],
   "source": [
    "df2 = df.loc[(df['Task'] == 2) & (df['Correct_ans'] > 0)]\n",
    "df2.groupby([\"Graph\"]).agg({'Length': 'mean'}).plot.bar(rot=0)"
   ]
  },
  {
   "cell_type": "code",
   "execution_count": 289,
   "metadata": {},
   "outputs": [
    {
     "data": {
      "text/plain": [
       "<matplotlib.axes._subplots.AxesSubplot at 0x7f8e6abf80b8>"
      ]
     },
     "execution_count": 289,
     "metadata": {},
     "output_type": "execute_result"
    },
    {
     "data": {
      "image/png": "[encoded data removed]",
      "text/plain": [
       "<matplotlib.figure.Figure at 0x7f8e6ab522e8>"
      ]
     },
     "metadata": {},
     "output_type": "display_data"
    }
   ],
   "source": [
    "df2 = df.loc[(df['Task'] == 3) & (df['Correct_ans'] > 0)]\n",
    "df2.groupby([\"Graph\"]).agg({'Length': 'mean'}).plot.bar(rot=0)"
   ]
  },
  {
   "cell_type": "code",
   "execution_count": 290,
   "metadata": {},
   "outputs": [
    {
     "data": {
      "text/plain": [
       "<matplotlib.axes._subplots.AxesSubplot at 0x7f8e6ab304e0>"
      ]
     },
     "execution_count": 290,
     "metadata": {},
     "output_type": "execute_result"
    },
    {
     "data": {
      "image/png": "[encoded data removed]",
      "text/plain": [
       "<matplotlib.figure.Figure at 0x7f8e6ab0cdd8>"
      ]
     },
     "metadata": {},
     "output_type": "display_data"
    }
   ],
   "source": [
    "df2 = df.loc[(df['Correct_ans'] > 0)]\n",
    "df2.groupby([\"Graph\"]).agg({'Length': 'mean'}).plot.bar(rot=0)"
   ]
  },
  {
   "cell_type": "code",
   "execution_count": 291,
   "metadata": {},
   "outputs": [
    {
     "data": {
      "text/html": [
       "<div>\n",
       "<style>\n",
       "    .dataframe thead tr:only-child th {\n",
       "        text-align: right;\n",
       "    }\n",
       "\n",
       "    .dataframe thead th {\n",
       "        text-align: left;\n",
       "    }\n",
       "\n",
       "    .dataframe tbody tr th {\n",
       "        vertical-align: top;\n",
       "    }\n",
       "</style>\n",
       "<table border=\"1\" class=\"dataframe\">\n",
       "  <thead>\n",
       "    <tr style=\"text-align: right;\">\n",
       "      <th></th>\n",
       "      <th>Participant</th>\n",
       "      <th>Graph</th>\n",
       "      <th>Task</th>\n",
       "      <th>Animation</th>\n",
       "      <th>Correct_ans</th>\n",
       "      <th>Total_ans</th>\n",
       "      <th>Total_correct</th>\n",
       "      <th>Distance</th>\n",
       "      <th>Angle</th>\n",
       "      <th>Length</th>\n",
       "    </tr>\n",
       "  </thead>\n",
       "  <tbody>\n",
       "    <tr>\n",
       "      <th>0</th>\n",
       "      <td>Serina</td>\n",
       "      <td>3</td>\n",
       "      <td>1</td>\n",
       "      <td>1</td>\n",
       "      <td>0</td>\n",
       "      <td>0</td>\n",
       "      <td>2</td>\n",
       "      <td>0.611491</td>\n",
       "      <td>1.000000</td>\n",
       "      <td>1.000000</td>\n",
       "    </tr>\n",
       "    <tr>\n",
       "      <th>1</th>\n",
       "      <td>Serina</td>\n",
       "      <td>3</td>\n",
       "      <td>2</td>\n",
       "      <td>1</td>\n",
       "      <td>1</td>\n",
       "      <td>1</td>\n",
       "      <td>3</td>\n",
       "      <td>0.081983</td>\n",
       "      <td>2.771163</td>\n",
       "      <td>0.407677</td>\n",
       "    </tr>\n",
       "    <tr>\n",
       "      <th>2</th>\n",
       "      <td>Serina</td>\n",
       "      <td>3</td>\n",
       "      <td>3</td>\n",
       "      <td>1</td>\n",
       "      <td>2</td>\n",
       "      <td>2</td>\n",
       "      <td>2</td>\n",
       "      <td>0.048499</td>\n",
       "      <td>18.570245</td>\n",
       "      <td>0.101356</td>\n",
       "    </tr>\n",
       "    <tr>\n",
       "      <th>3</th>\n",
       "      <td>Serina</td>\n",
       "      <td>4</td>\n",
       "      <td>1</td>\n",
       "      <td>2</td>\n",
       "      <td>0</td>\n",
       "      <td>0</td>\n",
       "      <td>2</td>\n",
       "      <td>0.431568</td>\n",
       "      <td>1.000000</td>\n",
       "      <td>1.000000</td>\n",
       "    </tr>\n",
       "    <tr>\n",
       "      <th>4</th>\n",
       "      <td>Serina</td>\n",
       "      <td>4</td>\n",
       "      <td>2</td>\n",
       "      <td>2</td>\n",
       "      <td>0</td>\n",
       "      <td>0</td>\n",
       "      <td>2</td>\n",
       "      <td>0.431568</td>\n",
       "      <td>1.000000</td>\n",
       "      <td>1.000000</td>\n",
       "    </tr>\n",
       "    <tr>\n",
       "      <th>5</th>\n",
       "      <td>Serina</td>\n",
       "      <td>4</td>\n",
       "      <td>3</td>\n",
       "      <td>2</td>\n",
       "      <td>2</td>\n",
       "      <td>2</td>\n",
       "      <td>3</td>\n",
       "      <td>0.117296</td>\n",
       "      <td>6.625672</td>\n",
       "      <td>0.415561</td>\n",
       "    </tr>\n",
       "    <tr>\n",
       "      <th>6</th>\n",
       "      <td>Serina</td>\n",
       "      <td>5</td>\n",
       "      <td>1</td>\n",
       "      <td>4</td>\n",
       "      <td>1</td>\n",
       "      <td>1</td>\n",
       "      <td>3</td>\n",
       "      <td>0.031916</td>\n",
       "      <td>3.543278</td>\n",
       "      <td>0.213800</td>\n",
       "    </tr>\n",
       "    <tr>\n",
       "      <th>7</th>\n",
       "      <td>Serina</td>\n",
       "      <td>5</td>\n",
       "      <td>2</td>\n",
       "      <td>4</td>\n",
       "      <td>1</td>\n",
       "      <td>1</td>\n",
       "      <td>2</td>\n",
       "      <td>0.083409</td>\n",
       "      <td>0.879968</td>\n",
       "      <td>0.300571</td>\n",
       "    </tr>\n",
       "    <tr>\n",
       "      <th>8</th>\n",
       "      <td>Serina</td>\n",
       "      <td>5</td>\n",
       "      <td>3</td>\n",
       "      <td>4</td>\n",
       "      <td>1</td>\n",
       "      <td>1</td>\n",
       "      <td>2</td>\n",
       "      <td>0.073325</td>\n",
       "      <td>60.752338</td>\n",
       "      <td>0.420609</td>\n",
       "    </tr>\n",
       "    <tr>\n",
       "      <th>9</th>\n",
       "      <td>Serina</td>\n",
       "      <td>6</td>\n",
       "      <td>1</td>\n",
       "      <td>4</td>\n",
       "      <td>1</td>\n",
       "      <td>1</td>\n",
       "      <td>3</td>\n",
       "      <td>0.037899</td>\n",
       "      <td>7.988787</td>\n",
       "      <td>0.246473</td>\n",
       "    </tr>\n",
       "    <tr>\n",
       "      <th>10</th>\n",
       "      <td>Serina</td>\n",
       "      <td>6</td>\n",
       "      <td>2</td>\n",
       "      <td>4</td>\n",
       "      <td>0</td>\n",
       "      <td>0</td>\n",
       "      <td>3</td>\n",
       "      <td>0.458250</td>\n",
       "      <td>1.000000</td>\n",
       "      <td>1.000000</td>\n",
       "    </tr>\n",
       "    <tr>\n",
       "      <th>11</th>\n",
       "      <td>Serina</td>\n",
       "      <td>6</td>\n",
       "      <td>3</td>\n",
       "      <td>4</td>\n",
       "      <td>0</td>\n",
       "      <td>0</td>\n",
       "      <td>1</td>\n",
       "      <td>0.458250</td>\n",
       "      <td>1.000000</td>\n",
       "      <td>1.000000</td>\n",
       "    </tr>\n",
       "    <tr>\n",
       "      <th>12</th>\n",
       "      <td>Serina</td>\n",
       "      <td>7</td>\n",
       "      <td>1</td>\n",
       "      <td>1</td>\n",
       "      <td>2</td>\n",
       "      <td>2</td>\n",
       "      <td>3</td>\n",
       "      <td>0.032045</td>\n",
       "      <td>6.803597</td>\n",
       "      <td>0.178375</td>\n",
       "    </tr>\n",
       "    <tr>\n",
       "      <th>13</th>\n",
       "      <td>Serina</td>\n",
       "      <td>7</td>\n",
       "      <td>2</td>\n",
       "      <td>1</td>\n",
       "      <td>1</td>\n",
       "      <td>1</td>\n",
       "      <td>1</td>\n",
       "      <td>0.198034</td>\n",
       "      <td>2.244121</td>\n",
       "      <td>0.863657</td>\n",
       "    </tr>\n",
       "    <tr>\n",
       "      <th>14</th>\n",
       "      <td>Serina</td>\n",
       "      <td>7</td>\n",
       "      <td>3</td>\n",
       "      <td>1</td>\n",
       "      <td>0</td>\n",
       "      <td>0</td>\n",
       "      <td>3</td>\n",
       "      <td>0.740900</td>\n",
       "      <td>1.000000</td>\n",
       "      <td>1.000000</td>\n",
       "    </tr>\n",
       "    <tr>\n",
       "      <th>15</th>\n",
       "      <td>Serina</td>\n",
       "      <td>8</td>\n",
       "      <td>1</td>\n",
       "      <td>3</td>\n",
       "      <td>0</td>\n",
       "      <td>0</td>\n",
       "      <td>1</td>\n",
       "      <td>0.675539</td>\n",
       "      <td>1.000000</td>\n",
       "      <td>1.000000</td>\n",
       "    </tr>\n",
       "    <tr>\n",
       "      <th>16</th>\n",
       "      <td>Serina</td>\n",
       "      <td>8</td>\n",
       "      <td>2</td>\n",
       "      <td>3</td>\n",
       "      <td>1</td>\n",
       "      <td>1</td>\n",
       "      <td>3</td>\n",
       "      <td>0.057459</td>\n",
       "      <td>21.595561</td>\n",
       "      <td>0.048040</td>\n",
       "    </tr>\n",
       "    <tr>\n",
       "      <th>17</th>\n",
       "      <td>Serina</td>\n",
       "      <td>8</td>\n",
       "      <td>3</td>\n",
       "      <td>3</td>\n",
       "      <td>1</td>\n",
       "      <td>1</td>\n",
       "      <td>3</td>\n",
       "      <td>0.082837</td>\n",
       "      <td>27.518722</td>\n",
       "      <td>0.214175</td>\n",
       "    </tr>\n",
       "    <tr>\n",
       "      <th>18</th>\n",
       "      <td>Serina</td>\n",
       "      <td>9</td>\n",
       "      <td>1</td>\n",
       "      <td>1</td>\n",
       "      <td>2</td>\n",
       "      <td>2</td>\n",
       "      <td>2</td>\n",
       "      <td>0.050732</td>\n",
       "      <td>3.026875</td>\n",
       "      <td>0.204261</td>\n",
       "    </tr>\n",
       "    <tr>\n",
       "      <th>19</th>\n",
       "      <td>Serina</td>\n",
       "      <td>9</td>\n",
       "      <td>2</td>\n",
       "      <td>1</td>\n",
       "      <td>1</td>\n",
       "      <td>1</td>\n",
       "      <td>3</td>\n",
       "      <td>0.097681</td>\n",
       "      <td>13.793148</td>\n",
       "      <td>0.190252</td>\n",
       "    </tr>\n",
       "    <tr>\n",
       "      <th>20</th>\n",
       "      <td>Serina</td>\n",
       "      <td>9</td>\n",
       "      <td>3</td>\n",
       "      <td>1</td>\n",
       "      <td>1</td>\n",
       "      <td>1</td>\n",
       "      <td>2</td>\n",
       "      <td>0.137367</td>\n",
       "      <td>5.638169</td>\n",
       "      <td>0.734953</td>\n",
       "    </tr>\n",
       "    <tr>\n",
       "      <th>21</th>\n",
       "      <td>Serina</td>\n",
       "      <td>10</td>\n",
       "      <td>1</td>\n",
       "      <td>3</td>\n",
       "      <td>1</td>\n",
       "      <td>1</td>\n",
       "      <td>2</td>\n",
       "      <td>0.033645</td>\n",
       "      <td>3.695575</td>\n",
       "      <td>0.154773</td>\n",
       "    </tr>\n",
       "    <tr>\n",
       "      <th>22</th>\n",
       "      <td>Serina</td>\n",
       "      <td>10</td>\n",
       "      <td>2</td>\n",
       "      <td>3</td>\n",
       "      <td>0</td>\n",
       "      <td>0</td>\n",
       "      <td>2</td>\n",
       "      <td>0.633290</td>\n",
       "      <td>1.000000</td>\n",
       "      <td>1.000000</td>\n",
       "    </tr>\n",
       "    <tr>\n",
       "      <th>23</th>\n",
       "      <td>Serina</td>\n",
       "      <td>10</td>\n",
       "      <td>3</td>\n",
       "      <td>3</td>\n",
       "      <td>2</td>\n",
       "      <td>2</td>\n",
       "      <td>3</td>\n",
       "      <td>0.047061</td>\n",
       "      <td>61.184973</td>\n",
       "      <td>0.072345</td>\n",
       "    </tr>\n",
       "    <tr>\n",
       "      <th>24</th>\n",
       "      <td>Serina</td>\n",
       "      <td>11</td>\n",
       "      <td>1</td>\n",
       "      <td>2</td>\n",
       "      <td>1</td>\n",
       "      <td>1</td>\n",
       "      <td>3</td>\n",
       "      <td>0.125986</td>\n",
       "      <td>0.865377</td>\n",
       "      <td>0.182129</td>\n",
       "    </tr>\n",
       "    <tr>\n",
       "      <th>25</th>\n",
       "      <td>Serina</td>\n",
       "      <td>11</td>\n",
       "      <td>2</td>\n",
       "      <td>2</td>\n",
       "      <td>1</td>\n",
       "      <td>1</td>\n",
       "      <td>2</td>\n",
       "      <td>0.175568</td>\n",
       "      <td>10.527411</td>\n",
       "      <td>0.052270</td>\n",
       "    </tr>\n",
       "    <tr>\n",
       "      <th>26</th>\n",
       "      <td>Serina</td>\n",
       "      <td>11</td>\n",
       "      <td>3</td>\n",
       "      <td>2</td>\n",
       "      <td>1</td>\n",
       "      <td>1</td>\n",
       "      <td>2</td>\n",
       "      <td>0.055845</td>\n",
       "      <td>4.982366</td>\n",
       "      <td>0.417642</td>\n",
       "    </tr>\n",
       "    <tr>\n",
       "      <th>27</th>\n",
       "      <td>Serina</td>\n",
       "      <td>12</td>\n",
       "      <td>1</td>\n",
       "      <td>2</td>\n",
       "      <td>1</td>\n",
       "      <td>1</td>\n",
       "      <td>3</td>\n",
       "      <td>0.133751</td>\n",
       "      <td>7.761185</td>\n",
       "      <td>0.054007</td>\n",
       "    </tr>\n",
       "    <tr>\n",
       "      <th>28</th>\n",
       "      <td>Serina</td>\n",
       "      <td>12</td>\n",
       "      <td>2</td>\n",
       "      <td>2</td>\n",
       "      <td>1</td>\n",
       "      <td>1</td>\n",
       "      <td>3</td>\n",
       "      <td>0.091190</td>\n",
       "      <td>20.568707</td>\n",
       "      <td>0.205103</td>\n",
       "    </tr>\n",
       "    <tr>\n",
       "      <th>29</th>\n",
       "      <td>Serina</td>\n",
       "      <td>12</td>\n",
       "      <td>3</td>\n",
       "      <td>2</td>\n",
       "      <td>1</td>\n",
       "      <td>1</td>\n",
       "      <td>1</td>\n",
       "      <td>0.110389</td>\n",
       "      <td>9.268144</td>\n",
       "      <td>0.011862</td>\n",
       "    </tr>\n",
       "    <tr>\n",
       "      <th>...</th>\n",
       "      <td>...</td>\n",
       "      <td>...</td>\n",
       "      <td>...</td>\n",
       "      <td>...</td>\n",
       "      <td>...</td>\n",
       "      <td>...</td>\n",
       "      <td>...</td>\n",
       "      <td>...</td>\n",
       "      <td>...</td>\n",
       "      <td>...</td>\n",
       "    </tr>\n",
       "    <tr>\n",
       "      <th>450</th>\n",
       "      <td>Seva</td>\n",
       "      <td>13</td>\n",
       "      <td>1</td>\n",
       "      <td>3</td>\n",
       "      <td>2</td>\n",
       "      <td>2</td>\n",
       "      <td>3</td>\n",
       "      <td>0.093242</td>\n",
       "      <td>10.426259</td>\n",
       "      <td>0.519749</td>\n",
       "    </tr>\n",
       "    <tr>\n",
       "      <th>451</th>\n",
       "      <td>Seva</td>\n",
       "      <td>13</td>\n",
       "      <td>2</td>\n",
       "      <td>3</td>\n",
       "      <td>1</td>\n",
       "      <td>1</td>\n",
       "      <td>1</td>\n",
       "      <td>0.128883</td>\n",
       "      <td>7.184246</td>\n",
       "      <td>0.071524</td>\n",
       "    </tr>\n",
       "    <tr>\n",
       "      <th>452</th>\n",
       "      <td>Seva</td>\n",
       "      <td>13</td>\n",
       "      <td>3</td>\n",
       "      <td>3</td>\n",
       "      <td>2</td>\n",
       "      <td>2</td>\n",
       "      <td>3</td>\n",
       "      <td>0.109140</td>\n",
       "      <td>30.601252</td>\n",
       "      <td>0.291570</td>\n",
       "    </tr>\n",
       "    <tr>\n",
       "      <th>453</th>\n",
       "      <td>Seva</td>\n",
       "      <td>14</td>\n",
       "      <td>1</td>\n",
       "      <td>4</td>\n",
       "      <td>0</td>\n",
       "      <td>0</td>\n",
       "      <td>1</td>\n",
       "      <td>0.607795</td>\n",
       "      <td>1.000000</td>\n",
       "      <td>1.000000</td>\n",
       "    </tr>\n",
       "    <tr>\n",
       "      <th>454</th>\n",
       "      <td>Seva</td>\n",
       "      <td>14</td>\n",
       "      <td>2</td>\n",
       "      <td>4</td>\n",
       "      <td>0</td>\n",
       "      <td>0</td>\n",
       "      <td>3</td>\n",
       "      <td>0.607795</td>\n",
       "      <td>1.000000</td>\n",
       "      <td>1.000000</td>\n",
       "    </tr>\n",
       "    <tr>\n",
       "      <th>455</th>\n",
       "      <td>Seva</td>\n",
       "      <td>14</td>\n",
       "      <td>3</td>\n",
       "      <td>4</td>\n",
       "      <td>2</td>\n",
       "      <td>3</td>\n",
       "      <td>3</td>\n",
       "      <td>0.036614</td>\n",
       "      <td>8.627458</td>\n",
       "      <td>0.051312</td>\n",
       "    </tr>\n",
       "    <tr>\n",
       "      <th>456</th>\n",
       "      <td>Seva</td>\n",
       "      <td>15</td>\n",
       "      <td>1</td>\n",
       "      <td>1</td>\n",
       "      <td>2</td>\n",
       "      <td>2</td>\n",
       "      <td>2</td>\n",
       "      <td>0.036999</td>\n",
       "      <td>3.514279</td>\n",
       "      <td>0.184202</td>\n",
       "    </tr>\n",
       "    <tr>\n",
       "      <th>457</th>\n",
       "      <td>Seva</td>\n",
       "      <td>15</td>\n",
       "      <td>2</td>\n",
       "      <td>1</td>\n",
       "      <td>1</td>\n",
       "      <td>1</td>\n",
       "      <td>3</td>\n",
       "      <td>0.026998</td>\n",
       "      <td>0.466285</td>\n",
       "      <td>0.030712</td>\n",
       "    </tr>\n",
       "    <tr>\n",
       "      <th>458</th>\n",
       "      <td>Seva</td>\n",
       "      <td>15</td>\n",
       "      <td>3</td>\n",
       "      <td>1</td>\n",
       "      <td>2</td>\n",
       "      <td>3</td>\n",
       "      <td>2</td>\n",
       "      <td>0.067929</td>\n",
       "      <td>1.772085</td>\n",
       "      <td>0.045227</td>\n",
       "    </tr>\n",
       "    <tr>\n",
       "      <th>459</th>\n",
       "      <td>Seva</td>\n",
       "      <td>16</td>\n",
       "      <td>1</td>\n",
       "      <td>3</td>\n",
       "      <td>2</td>\n",
       "      <td>2</td>\n",
       "      <td>2</td>\n",
       "      <td>0.113590</td>\n",
       "      <td>9.325171</td>\n",
       "      <td>0.368786</td>\n",
       "    </tr>\n",
       "    <tr>\n",
       "      <th>460</th>\n",
       "      <td>Seva</td>\n",
       "      <td>16</td>\n",
       "      <td>2</td>\n",
       "      <td>3</td>\n",
       "      <td>2</td>\n",
       "      <td>2</td>\n",
       "      <td>2</td>\n",
       "      <td>0.091765</td>\n",
       "      <td>5.383452</td>\n",
       "      <td>0.134748</td>\n",
       "    </tr>\n",
       "    <tr>\n",
       "      <th>461</th>\n",
       "      <td>Seva</td>\n",
       "      <td>16</td>\n",
       "      <td>3</td>\n",
       "      <td>3</td>\n",
       "      <td>2</td>\n",
       "      <td>3</td>\n",
       "      <td>3</td>\n",
       "      <td>0.060089</td>\n",
       "      <td>7.190035</td>\n",
       "      <td>0.195667</td>\n",
       "    </tr>\n",
       "    <tr>\n",
       "      <th>462</th>\n",
       "      <td>Seva</td>\n",
       "      <td>17</td>\n",
       "      <td>1</td>\n",
       "      <td>1</td>\n",
       "      <td>2</td>\n",
       "      <td>3</td>\n",
       "      <td>3</td>\n",
       "      <td>0.051402</td>\n",
       "      <td>7.381120</td>\n",
       "      <td>0.152773</td>\n",
       "    </tr>\n",
       "    <tr>\n",
       "      <th>463</th>\n",
       "      <td>Seva</td>\n",
       "      <td>17</td>\n",
       "      <td>2</td>\n",
       "      <td>1</td>\n",
       "      <td>2</td>\n",
       "      <td>2</td>\n",
       "      <td>2</td>\n",
       "      <td>0.071705</td>\n",
       "      <td>5.794611</td>\n",
       "      <td>0.058853</td>\n",
       "    </tr>\n",
       "    <tr>\n",
       "      <th>464</th>\n",
       "      <td>Seva</td>\n",
       "      <td>17</td>\n",
       "      <td>3</td>\n",
       "      <td>1</td>\n",
       "      <td>2</td>\n",
       "      <td>2</td>\n",
       "      <td>2</td>\n",
       "      <td>0.081885</td>\n",
       "      <td>15.740247</td>\n",
       "      <td>0.176362</td>\n",
       "    </tr>\n",
       "    <tr>\n",
       "      <th>465</th>\n",
       "      <td>Seva</td>\n",
       "      <td>18</td>\n",
       "      <td>1</td>\n",
       "      <td>4</td>\n",
       "      <td>2</td>\n",
       "      <td>3</td>\n",
       "      <td>3</td>\n",
       "      <td>0.043812</td>\n",
       "      <td>5.437777</td>\n",
       "      <td>0.026415</td>\n",
       "    </tr>\n",
       "    <tr>\n",
       "      <th>466</th>\n",
       "      <td>Seva</td>\n",
       "      <td>18</td>\n",
       "      <td>2</td>\n",
       "      <td>4</td>\n",
       "      <td>2</td>\n",
       "      <td>2</td>\n",
       "      <td>3</td>\n",
       "      <td>0.045742</td>\n",
       "      <td>3.148337</td>\n",
       "      <td>0.040642</td>\n",
       "    </tr>\n",
       "    <tr>\n",
       "      <th>467</th>\n",
       "      <td>Seva</td>\n",
       "      <td>18</td>\n",
       "      <td>3</td>\n",
       "      <td>4</td>\n",
       "      <td>1</td>\n",
       "      <td>1</td>\n",
       "      <td>1</td>\n",
       "      <td>0.096632</td>\n",
       "      <td>0.740337</td>\n",
       "      <td>0.269426</td>\n",
       "    </tr>\n",
       "    <tr>\n",
       "      <th>468</th>\n",
       "      <td>Seva</td>\n",
       "      <td>19</td>\n",
       "      <td>1</td>\n",
       "      <td>3</td>\n",
       "      <td>2</td>\n",
       "      <td>2</td>\n",
       "      <td>3</td>\n",
       "      <td>0.069162</td>\n",
       "      <td>10.204406</td>\n",
       "      <td>0.189301</td>\n",
       "    </tr>\n",
       "    <tr>\n",
       "      <th>469</th>\n",
       "      <td>Seva</td>\n",
       "      <td>19</td>\n",
       "      <td>2</td>\n",
       "      <td>3</td>\n",
       "      <td>0</td>\n",
       "      <td>0</td>\n",
       "      <td>1</td>\n",
       "      <td>0.742086</td>\n",
       "      <td>1.000000</td>\n",
       "      <td>1.000000</td>\n",
       "    </tr>\n",
       "    <tr>\n",
       "      <th>470</th>\n",
       "      <td>Seva</td>\n",
       "      <td>19</td>\n",
       "      <td>3</td>\n",
       "      <td>3</td>\n",
       "      <td>2</td>\n",
       "      <td>2</td>\n",
       "      <td>3</td>\n",
       "      <td>0.034061</td>\n",
       "      <td>6.609445</td>\n",
       "      <td>0.052273</td>\n",
       "    </tr>\n",
       "    <tr>\n",
       "      <th>471</th>\n",
       "      <td>Seva</td>\n",
       "      <td>20</td>\n",
       "      <td>1</td>\n",
       "      <td>1</td>\n",
       "      <td>1</td>\n",
       "      <td>1</td>\n",
       "      <td>1</td>\n",
       "      <td>0.059411</td>\n",
       "      <td>18.324726</td>\n",
       "      <td>0.031878</td>\n",
       "    </tr>\n",
       "    <tr>\n",
       "      <th>472</th>\n",
       "      <td>Seva</td>\n",
       "      <td>20</td>\n",
       "      <td>2</td>\n",
       "      <td>1</td>\n",
       "      <td>1</td>\n",
       "      <td>1</td>\n",
       "      <td>3</td>\n",
       "      <td>0.026364</td>\n",
       "      <td>0.877212</td>\n",
       "      <td>0.039329</td>\n",
       "    </tr>\n",
       "    <tr>\n",
       "      <th>473</th>\n",
       "      <td>Seva</td>\n",
       "      <td>20</td>\n",
       "      <td>3</td>\n",
       "      <td>1</td>\n",
       "      <td>2</td>\n",
       "      <td>2</td>\n",
       "      <td>3</td>\n",
       "      <td>0.064998</td>\n",
       "      <td>40.700626</td>\n",
       "      <td>0.222684</td>\n",
       "    </tr>\n",
       "    <tr>\n",
       "      <th>474</th>\n",
       "      <td>Seva</td>\n",
       "      <td>21</td>\n",
       "      <td>1</td>\n",
       "      <td>3</td>\n",
       "      <td>3</td>\n",
       "      <td>3</td>\n",
       "      <td>3</td>\n",
       "      <td>0.037129</td>\n",
       "      <td>6.924357</td>\n",
       "      <td>0.160167</td>\n",
       "    </tr>\n",
       "    <tr>\n",
       "      <th>475</th>\n",
       "      <td>Seva</td>\n",
       "      <td>21</td>\n",
       "      <td>2</td>\n",
       "      <td>3</td>\n",
       "      <td>1</td>\n",
       "      <td>1</td>\n",
       "      <td>2</td>\n",
       "      <td>0.095811</td>\n",
       "      <td>5.125344</td>\n",
       "      <td>0.613509</td>\n",
       "    </tr>\n",
       "    <tr>\n",
       "      <th>476</th>\n",
       "      <td>Seva</td>\n",
       "      <td>21</td>\n",
       "      <td>3</td>\n",
       "      <td>3</td>\n",
       "      <td>2</td>\n",
       "      <td>2</td>\n",
       "      <td>2</td>\n",
       "      <td>0.059525</td>\n",
       "      <td>6.318705</td>\n",
       "      <td>0.222709</td>\n",
       "    </tr>\n",
       "    <tr>\n",
       "      <th>477</th>\n",
       "      <td>Seva</td>\n",
       "      <td>22</td>\n",
       "      <td>1</td>\n",
       "      <td>4</td>\n",
       "      <td>1</td>\n",
       "      <td>1</td>\n",
       "      <td>1</td>\n",
       "      <td>0.038870</td>\n",
       "      <td>3.615492</td>\n",
       "      <td>0.120513</td>\n",
       "    </tr>\n",
       "    <tr>\n",
       "      <th>478</th>\n",
       "      <td>Seva</td>\n",
       "      <td>22</td>\n",
       "      <td>2</td>\n",
       "      <td>4</td>\n",
       "      <td>1</td>\n",
       "      <td>1</td>\n",
       "      <td>3</td>\n",
       "      <td>0.050984</td>\n",
       "      <td>6.449601</td>\n",
       "      <td>0.020752</td>\n",
       "    </tr>\n",
       "    <tr>\n",
       "      <th>479</th>\n",
       "      <td>Seva</td>\n",
       "      <td>22</td>\n",
       "      <td>3</td>\n",
       "      <td>4</td>\n",
       "      <td>3</td>\n",
       "      <td>3</td>\n",
       "      <td>3</td>\n",
       "      <td>0.045064</td>\n",
       "      <td>2.747701</td>\n",
       "      <td>0.152007</td>\n",
       "    </tr>\n",
       "  </tbody>\n",
       "</table>\n",
       "<p>480 rows × 10 columns</p>\n",
       "</div>"
      ],
      "text/plain": [
       "    Participant  Graph  Task  Animation  Correct_ans  Total_ans  \\\n",
       "0        Serina      3     1          1            0          0   \n",
       "1        Serina      3     2          1            1          1   \n",
       "2        Serina      3     3          1            2          2   \n",
       "3        Serina      4     1          2            0          0   \n",
       "4        Serina      4     2          2            0          0   \n",
       "5        Serina      4     3          2            2          2   \n",
       "6        Serina      5     1          4            1          1   \n",
       "7        Serina      5     2          4            1          1   \n",
       "8        Serina      5     3          4            1          1   \n",
       "9        Serina      6     1          4            1          1   \n",
       "10       Serina      6     2          4            0          0   \n",
       "11       Serina      6     3          4            0          0   \n",
       "12       Serina      7     1          1            2          2   \n",
       "13       Serina      7     2          1            1          1   \n",
       "14       Serina      7     3          1            0          0   \n",
       "15       Serina      8     1          3            0          0   \n",
       "16       Serina      8     2          3            1          1   \n",
       "17       Serina      8     3          3            1          1   \n",
       "18       Serina      9     1          1            2          2   \n",
       "19       Serina      9     2          1            1          1   \n",
       "20       Serina      9     3          1            1          1   \n",
       "21       Serina     10     1          3            1          1   \n",
       "22       Serina     10     2          3            0          0   \n",
       "23       Serina     10     3          3            2          2   \n",
       "24       Serina     11     1          2            1          1   \n",
       "25       Serina     11     2          2            1          1   \n",
       "26       Serina     11     3          2            1          1   \n",
       "27       Serina     12     1          2            1          1   \n",
       "28       Serina     12     2          2            1          1   \n",
       "29       Serina     12     3          2            1          1   \n",
       "..          ...    ...   ...        ...          ...        ...   \n",
       "450        Seva     13     1          3            2          2   \n",
       "451        Seva     13     2          3            1          1   \n",
       "452        Seva     13     3          3            2          2   \n",
       "453        Seva     14     1          4            0          0   \n",
       "454        Seva     14     2          4            0          0   \n",
       "455        Seva     14     3          4            2          3   \n",
       "456        Seva     15     1          1            2          2   \n",
       "457        Seva     15     2          1            1          1   \n",
       "458        Seva     15     3          1            2          3   \n",
       "459        Seva     16     1          3            2          2   \n",
       "460        Seva     16     2          3            2          2   \n",
       "461        Seva     16     3          3            2          3   \n",
       "462        Seva     17     1          1            2          3   \n",
       "463        Seva     17     2          1            2          2   \n",
       "464        Seva     17     3          1            2          2   \n",
       "465        Seva     18     1          4            2          3   \n",
       "466        Seva     18     2          4            2          2   \n",
       "467        Seva     18     3          4            1          1   \n",
       "468        Seva     19     1          3            2          2   \n",
       "469        Seva     19     2          3            0          0   \n",
       "470        Seva     19     3          3            2          2   \n",
       "471        Seva     20     1          1            1          1   \n",
       "472        Seva     20     2          1            1          1   \n",
       "473        Seva     20     3          1            2          2   \n",
       "474        Seva     21     1          3            3          3   \n",
       "475        Seva     21     2          3            1          1   \n",
       "476        Seva     21     3          3            2          2   \n",
       "477        Seva     22     1          4            1          1   \n",
       "478        Seva     22     2          4            1          1   \n",
       "479        Seva     22     3          4            3          3   \n",
       "\n",
       "     Total_correct  Distance      Angle    Length  \n",
       "0                2  0.611491   1.000000  1.000000  \n",
       "1                3  0.081983   2.771163  0.407677  \n",
       "2                2  0.048499  18.570245  0.101356  \n",
       "3                2  0.431568   1.000000  1.000000  \n",
       "4                2  0.431568   1.000000  1.000000  \n",
       "5                3  0.117296   6.625672  0.415561  \n",
       "6                3  0.031916   3.543278  0.213800  \n",
       "7                2  0.083409   0.879968  0.300571  \n",
       "8                2  0.073325  60.752338  0.420609  \n",
       "9                3  0.037899   7.988787  0.246473  \n",
       "10               3  0.458250   1.000000  1.000000  \n",
       "11               1  0.458250   1.000000  1.000000  \n",
       "12               3  0.032045   6.803597  0.178375  \n",
       "13               1  0.198034   2.244121  0.863657  \n",
       "14               3  0.740900   1.000000  1.000000  \n",
       "15               1  0.675539   1.000000  1.000000  \n",
       "16               3  0.057459  21.595561  0.048040  \n",
       "17               3  0.082837  27.518722  0.214175  \n",
       "18               2  0.050732   3.026875  0.204261  \n",
       "19               3  0.097681  13.793148  0.190252  \n",
       "20               2  0.137367   5.638169  0.734953  \n",
       "21               2  0.033645   3.695575  0.154773  \n",
       "22               2  0.633290   1.000000  1.000000  \n",
       "23               3  0.047061  61.184973  0.072345  \n",
       "24               3  0.125986   0.865377  0.182129  \n",
       "25               2  0.175568  10.527411  0.052270  \n",
       "26               2  0.055845   4.982366  0.417642  \n",
       "27               3  0.133751   7.761185  0.054007  \n",
       "28               3  0.091190  20.568707  0.205103  \n",
       "29               1  0.110389   9.268144  0.011862  \n",
       "..             ...       ...        ...       ...  \n",
       "450              3  0.093242  10.426259  0.519749  \n",
       "451              1  0.128883   7.184246  0.071524  \n",
       "452              3  0.109140  30.601252  0.291570  \n",
       "453              1  0.607795   1.000000  1.000000  \n",
       "454              3  0.607795   1.000000  1.000000  \n",
       "455              3  0.036614   8.627458  0.051312  \n",
       "456              2  0.036999   3.514279  0.184202  \n",
       "457              3  0.026998   0.466285  0.030712  \n",
       "458              2  0.067929   1.772085  0.045227  \n",
       "459              2  0.113590   9.325171  0.368786  \n",
       "460              2  0.091765   5.383452  0.134748  \n",
       "461              3  0.060089   7.190035  0.195667  \n",
       "462              3  0.051402   7.381120  0.152773  \n",
       "463              2  0.071705   5.794611  0.058853  \n",
       "464              2  0.081885  15.740247  0.176362  \n",
       "465              3  0.043812   5.437777  0.026415  \n",
       "466              3  0.045742   3.148337  0.040642  \n",
       "467              1  0.096632   0.740337  0.269426  \n",
       "468              3  0.069162  10.204406  0.189301  \n",
       "469              1  0.742086   1.000000  1.000000  \n",
       "470              3  0.034061   6.609445  0.052273  \n",
       "471              1  0.059411  18.324726  0.031878  \n",
       "472              3  0.026364   0.877212  0.039329  \n",
       "473              3  0.064998  40.700626  0.222684  \n",
       "474              3  0.037129   6.924357  0.160167  \n",
       "475              2  0.095811   5.125344  0.613509  \n",
       "476              2  0.059525   6.318705  0.222709  \n",
       "477              1  0.038870   3.615492  0.120513  \n",
       "478              3  0.050984   6.449601  0.020752  \n",
       "479              3  0.045064   2.747701  0.152007  \n",
       "\n",
       "[480 rows x 10 columns]"
      ]
     },
     "execution_count": 291,
     "metadata": {},
     "output_type": "execute_result"
    }
   ],
   "source": [
    "df"
   ]
  },
  {
   "cell_type": "code",
   "execution_count": 292,
   "metadata": {},
   "outputs": [
    {
     "data": {
      "text/plain": [
       "80"
      ]
     },
     "execution_count": 292,
     "metadata": {},
     "output_type": "execute_result"
    }
   ],
   "source": [
    "len(df.loc[(df['Total_correct'] == 1)])"
   ]
  },
  {
   "cell_type": "code",
   "execution_count": 293,
   "metadata": {},
   "outputs": [
    {
     "data": {
      "text/plain": [
       "79"
      ]
     },
     "execution_count": 293,
     "metadata": {},
     "output_type": "execute_result"
    }
   ],
   "source": [
    "len(df.loc[(df['Correct_ans'] == 0)])"
   ]
  },
  {
   "cell_type": "code",
   "execution_count": 294,
   "metadata": {},
   "outputs": [
    {
     "data": {
      "text/plain": [
       "79"
      ]
     },
     "execution_count": 294,
     "metadata": {},
     "output_type": "execute_result"
    }
   ],
   "source": [
    "len(df.loc[(df['Distance'] > 0.2)])"
   ]
  },
  {
   "cell_type": "code",
   "execution_count": null,
   "metadata": {
    "collapsed": true
   },
   "outputs": [],
   "source": []
  }
 ],
 "metadata": {
  "kernelspec": {
   "display_name": "Python 3",
   "language": "python",
   "name": "python3"
  },
  "language_info": {
   "codemirror_mode": {
    "name": "ipython",
    "version": 3
   },
   "file_extension": ".py",
   "mimetype": "text/x-python",
   "name": "python",
   "nbconvert_exporter": "python",
   "pygments_lexer": "ipython3",
   "version": "3.6.3"
  }
 },
 "nbformat": 4,
 "nbformat_minor": 2
}
