{
 "cells": [
  {
   "cell_type": "code",
   "execution_count": 1,
   "metadata": {
    "tags": [
     "hidecode"
    ]
   },
   "outputs": [],
   "source": [
    "import ipywidgets as widgets"
   ]
  },
  {
   "cell_type": "code",
   "execution_count": 2,
   "metadata": {},
   "outputs": [
    {
     "data": {
      "application/vnd.jupyter.widget-view+json": {
       "model_id": "b2cf229b3c2a4d58be928c1e9ea76ad9",
       "version_major": 2,
       "version_minor": 0
      },
      "text/plain": [
       "ToggleButton(value=False, description='Click me', icon='check', tooltip='Description')"
      ]
     },
     "metadata": {},
     "output_type": "display_data"
    },
    {
     "name": "stdout",
     "output_type": "stream",
     "text": [
      "{'name': '_property_lock', 'old': traitlets.Undefined, 'new': {'value': True}, 'owner': ToggleButton(value=False, description='Click me', icon='check', tooltip='Description'), 'type': 'change'}\n",
      "{'name': 'value', 'old': False, 'new': True, 'owner': ToggleButton(value=True, description='Click me', icon='check', tooltip='Description'), 'type': 'change'}\n",
      "{'name': '_property_lock', 'old': {'value': True}, 'new': {}, 'owner': ToggleButton(value=True, description='Click me', icon='check', tooltip='Description'), 'type': 'change'}\n",
      "{'name': '_property_lock', 'old': {}, 'new': {'value': False}, 'owner': ToggleButton(value=True, description='Click me', icon='check', tooltip='Description'), 'type': 'change'}\n",
      "{'name': 'value', 'old': True, 'new': False, 'owner': ToggleButton(value=False, description='Click me', icon='check', tooltip='Description'), 'type': 'change'}\n",
      "{'name': 'value', 'old': True, 'new': False, 'owner': ToggleButton(value=False, description='Click me', icon='check', tooltip='Description'), 'type': 'change'}\n",
      "{'name': '_property_lock', 'old': {'value': False}, 'new': {}, 'owner': ToggleButton(value=False, description='Click me', icon='check', tooltip='Description'), 'type': 'change'}\n",
      "{'name': '_property_lock', 'old': {}, 'new': {'value': True}, 'owner': ToggleButton(value=False, description='Click me', icon='check', tooltip='Description'), 'type': 'change'}\n",
      "{'name': 'value', 'old': False, 'new': True, 'owner': ToggleButton(value=True, description='Click me', icon='check', tooltip='Description'), 'type': 'change'}\n",
      "{'name': 'value', 'old': False, 'new': True, 'owner': ToggleButton(value=True, description='Click me', icon='check', tooltip='Description'), 'type': 'change'}\n",
      "{'name': '_property_lock', 'old': {'value': True}, 'new': {}, 'owner': ToggleButton(value=True, description='Click me', icon='check', tooltip='Description'), 'type': 'change'}\n",
      "{'name': '_property_lock', 'old': {}, 'new': {'value': False}, 'owner': ToggleButton(value=True, description='Click me', icon='check', tooltip='Description'), 'type': 'change'}\n",
      "{'name': 'value', 'old': True, 'new': False, 'owner': ToggleButton(value=False, description='Click me', icon='check', tooltip='Description'), 'type': 'change'}\n",
      "{'name': 'value', 'old': True, 'new': False, 'owner': ToggleButton(value=False, description='Click me', icon='check', tooltip='Description'), 'type': 'change'}\n",
      "{'name': '_property_lock', 'old': {'value': False}, 'new': {}, 'owner': ToggleButton(value=False, description='Click me', icon='check', tooltip='Description'), 'type': 'change'}\n"
     ]
    }
   ],
   "source": [
    "b = widgets.ToggleButton(\n",
    "    value=False,\n",
    "    description='Click me',\n",
    "    disabled=False,\n",
    "    button_style='', # 'success', 'info', 'warning', 'danger' or ''\n",
    "    tooltip='Description',\n",
    "    icon='check'\n",
    ")\n",
    "b"
   ]
  },
  {
   "cell_type": "code",
   "execution_count": 4,
   "metadata": {},
   "outputs": [],
   "source": [
    "def receiver_function(event):\n",
    "    print(event)\n",
    "\n",
    "b.observe(receiver_function, 'value')\n",
    "\n"
   ]
  },
  {
   "cell_type": "code",
   "execution_count": 16,
   "metadata": {},
   "outputs": [],
   "source": [
    "b.observe?"
   ]
  },
  {
   "cell_type": "code",
   "execution_count": 5,
   "metadata": {},
   "outputs": [
    {
     "data": {
      "text/html": [
       "<script>\n",
       "code_show=true; \n",
       "function code_toggle() {\n",
       " if (code_show){\n",
       " $('div.input').hide();\n",
       " } else {\n",
       " $('div.input').show();\n",
       " }\n",
       " code_show = !code_show\n",
       "} \n",
       "$( document ).ready(code_toggle);\n",
       "</script>\n",
       "<form action=\"javascript:code_toggle()\"><input type=\"submit\" value=\"Click here to toggle on/off the raw code.\"></form>"
      ],
      "text/plain": [
       "<IPython.core.display.HTML object>"
      ]
     },
     "execution_count": 5,
     "metadata": {},
     "output_type": "execute_result"
    }
   ],
   "source": [
    "from IPython.display import HTML\n",
    "\n",
    "HTML('''<script>\n",
    "code_show=true; \n",
    "function code_toggle() {\n",
    " if (code_show){\n",
    " $('div.input').hide();\n",
    " } else {\n",
    " $('div.input').show();\n",
    " }\n",
    " code_show = !code_show\n",
    "} \n",
    "$( document ).ready(code_toggle);\n",
    "</script>\n",
    "<form action=\"javascript:code_toggle()\"><input type=\"submit\" value=\"Click here to toggle on/off the raw code.\"></form>''')\n"
   ]
  },
  {
   "cell_type": "code",
   "execution_count": null,
   "metadata": {},
   "outputs": [],
   "source": []
  }
 ],
 "metadata": {
  "kernelspec": {
   "display_name": "Python 3",
   "language": "python",
   "name": "python3"
  },
  "language_info": {
   "codemirror_mode": {
    "name": "ipython",
    "version": 3
   },
   "file_extension": ".py",
   "mimetype": "text/x-python",
   "name": "python",
   "nbconvert_exporter": "python",
   "pygments_lexer": "ipython3",
   "version": "3.7.1"
  }
 },
 "nbformat": 4,
 "nbformat_minor": 2
}
